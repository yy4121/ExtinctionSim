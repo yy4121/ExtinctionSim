{
 "cells": [
  {
   "metadata": {
    "ExecuteTime": {
     "end_time": "2025-07-17T23:51:23.397122Z",
     "start_time": "2025-07-17T23:51:22.635232Z"
    }
   },
   "cell_type": "code",
   "source": [
    "import pickle as pkl\n",
    "import Simulation.pys.full_sim.cosmo2cl as Cl\n",
    "import Simulation.pys.others.Statistics_acc as St\n",
    "import numpy as np\n",
    "import matplotlib.pyplot as plt\n",
    "import healpy as hp"
   ],
   "id": "fc30e3d035674d8d",
   "outputs": [],
   "execution_count": 1
  },
  {
   "metadata": {
    "ExecuteTime": {
     "end_time": "2025-07-17T23:51:28.279872Z",
     "start_time": "2025-07-17T23:51:23.397983Z"
    }
   },
   "cell_type": "code",
   "source": [
    "with open('../../data/test_model/test_full_sim_result_pack1.pkl', 'rb') as f:\n",
    "    result_pack_smooth = pkl.load(f)\n",
    "    \n",
    "# with open('../Model_data/test_simulation_result_pack_discrete.pkl', 'rb') as f:\n",
    "#     result_pack_discrete = pkl.load(f)\n",
    "    \n",
    "with open('../Model_data/test_simulation_result_pack_dustonly.pkl', 'rb') as f:\n",
    "    result_pack_dustonly = pkl.load(f)"
   ],
   "id": "initial_id",
   "outputs": [
    {
     "ename": "FileNotFoundError",
     "evalue": "[Errno 2] No such file or directory: '../Model_data/test_simulation_result_pack_dustonly.pkl'",
     "output_type": "error",
     "traceback": [
      "\u001B[31m---------------------------------------------------------------------------\u001B[39m",
      "\u001B[31mFileNotFoundError\u001B[39m                         Traceback (most recent call last)",
      "\u001B[36mCell\u001B[39m\u001B[36m \u001B[39m\u001B[32mIn[2]\u001B[39m\u001B[32m, line 7\u001B[39m\n\u001B[32m      2\u001B[39m     result_pack_smooth = pkl.load(f)\n\u001B[32m      4\u001B[39m \u001B[38;5;66;03m# with open('../Model_data/test_simulation_result_pack_discrete.pkl', 'rb') as f:\u001B[39;00m\n\u001B[32m      5\u001B[39m \u001B[38;5;66;03m#     result_pack_discrete = pkl.load(f)\u001B[39;00m\n\u001B[32m----> \u001B[39m\u001B[32m7\u001B[39m \u001B[38;5;28;01mwith\u001B[39;00m \u001B[38;5;28mopen\u001B[39m(\u001B[33m'\u001B[39m\u001B[33m../Model_data/test_simulation_result_pack_dustonly.pkl\u001B[39m\u001B[33m'\u001B[39m, \u001B[33m'\u001B[39m\u001B[33mrb\u001B[39m\u001B[33m'\u001B[39m) \u001B[38;5;28;01mas\u001B[39;00m f:\n\u001B[32m      8\u001B[39m     result_pack_dustonly = pkl.load(f)\n",
      "\u001B[36mFile \u001B[39m\u001B[32m/opt/anaconda3/envs/dust3pip/lib/python3.13/site-packages/IPython/core/interactiveshell.py:326\u001B[39m, in \u001B[36m_modified_open\u001B[39m\u001B[34m(file, *args, **kwargs)\u001B[39m\n\u001B[32m    319\u001B[39m \u001B[38;5;28;01mif\u001B[39;00m file \u001B[38;5;129;01min\u001B[39;00m {\u001B[32m0\u001B[39m, \u001B[32m1\u001B[39m, \u001B[32m2\u001B[39m}:\n\u001B[32m    320\u001B[39m     \u001B[38;5;28;01mraise\u001B[39;00m \u001B[38;5;167;01mValueError\u001B[39;00m(\n\u001B[32m    321\u001B[39m         \u001B[33mf\u001B[39m\u001B[33m\"\u001B[39m\u001B[33mIPython won\u001B[39m\u001B[33m'\u001B[39m\u001B[33mt let you open fd=\u001B[39m\u001B[38;5;132;01m{\u001B[39;00mfile\u001B[38;5;132;01m}\u001B[39;00m\u001B[33m by default \u001B[39m\u001B[33m\"\u001B[39m\n\u001B[32m    322\u001B[39m         \u001B[33m\"\u001B[39m\u001B[33mas it is likely to crash IPython. If you know what you are doing, \u001B[39m\u001B[33m\"\u001B[39m\n\u001B[32m    323\u001B[39m         \u001B[33m\"\u001B[39m\u001B[33myou can use builtins\u001B[39m\u001B[33m'\u001B[39m\u001B[33m open.\u001B[39m\u001B[33m\"\u001B[39m\n\u001B[32m    324\u001B[39m     )\n\u001B[32m--> \u001B[39m\u001B[32m326\u001B[39m \u001B[38;5;28;01mreturn\u001B[39;00m io_open(file, *args, **kwargs)\n",
      "\u001B[31mFileNotFoundError\u001B[39m: [Errno 2] No such file or directory: '../Model_data/test_simulation_result_pack_dustonly.pkl'"
     ]
    }
   ],
   "execution_count": 2
  },
  {
   "metadata": {},
   "cell_type": "code",
   "source": [
    "cosmo = result_pack_smooth[\"cosmo_pack\"]\n",
    "dust = result_pack_smooth[\"dust_pack\"]\n",
    "data_smooth = result_pack_smooth[\"data\"]\n",
    "mask_smooth = result_pack_smooth['mask']\n",
    "\n",
    "data_discrete = result_pack_discrete[\"data\"]\n",
    "mask_discrete = result_pack_discrete[\"mask\"]"
   ],
   "id": "d5b0211e4c3d5f22",
   "outputs": [],
   "execution_count": null
  },
  {
   "metadata": {},
   "cell_type": "code",
   "source": [
    "ana_dust_smooth = St.sim_data(data_smooth['dust'][:,:,1:-1], mask_smooth, print_ = True)\n",
    "ana_clean_smooth = St.sim_data(data_smooth['clean'][:,:,1:-1],mask_smooth, print_ = True)\n",
    "\n",
    "ana_dust_discrete = St.sim_data(data_discrete['dust'][:,:,1:-1], mask_discrete, print_ = True)\n",
    "ana_clean_discrete = St.sim_data(data_discrete['clean'][:,:,1:-1],mask_discrete, print_ = True)"
   ],
   "id": "c9315fd784d89785",
   "outputs": [],
   "execution_count": null
  },
  {
   "metadata": {},
   "cell_type": "code",
   "source": [
    "plt.plot(ana_dust_smooth.photoz_shell_nzs().T/sum(ana_dust_smooth.photoz_shell_nzs().T), color = \"black\")\n",
    "plt.plot(ana_clean_smooth.photoz_shell_nzs().T/sum(ana_clean_smooth.photoz_shell_nzs().T), \"-.\", color = \"black\")\n",
    "\n",
    "plt.figure()\n",
    "\n",
    "plt.plot(ana_dust_discrete.photoz_shell_nzs().T/sum(ana_dust_discrete.photoz_shell_nzs().T), color = \"black\")\n",
    "plt.plot(ana_clean_discrete.photoz_shell_nzs().T/sum(ana_clean_discrete.photoz_shell_nzs().T), \"-.\", color = \"black\")"
   ],
   "id": "eda12815b0d90b34",
   "outputs": [],
   "execution_count": null
  },
  {
   "metadata": {
    "ExecuteTime": {
     "end_time": "2025-05-18T15:10:36.916229Z",
     "start_time": "2025-05-18T15:09:27.839636Z"
    }
   },
   "cell_type": "code",
   "source": [
    "shell_id = 1\n",
    "photoz_shell_nz_clean = ana_clean_smooth.photoz_shell_nzs()[shell_id]\n",
    "photoz_shell_nz_dust = ana_dust_smooth.photoz_shell_nzs()[shell_id]\n",
    "\n",
    "Cl_clean = Cl.cls_total_direct(cosmo['cl_shell'], cosmo['cl_label'], photoz_shell_nz_clean)\n",
    "Cl_dust = Cl.cls_total_direct(cosmo['cl_shell'], cosmo['cl_label'], photoz_shell_nz_dust)\n",
    "\n",
    "\n",
    "Cls_obs_clean_smooth = ana_clean_smooth.cl_photoz_shell([shell_id], 1024) \n",
    "Cls_obs_dust_smooth = ana_dust_smooth.cl_photoz_shell([shell_id], 1024) \n",
    "\n",
    "\n",
    "Cls_obs_clean_discrete = ana_clean_discrete.cl_photoz_shell([shell_id], 1024) \n",
    "Cls_obs_dust_discrete = ana_dust_discrete.cl_photoz_shell([shell_id], 1024)"
   ],
   "id": "48b32c5f68a4eb4e",
   "execution_count": 6,
   "outputs": []
  },
  {
   "metadata": {
    "ExecuteTime": {
     "end_time": "2025-05-18T15:10:37.360701Z",
     "start_time": "2025-05-18T15:10:36.922704Z"
    }
   },
   "cell_type": "code",
   "source": [
    "plt.figure(figsize=[7, 7])\n",
    "plt.loglog(Cls_obs_clean_discrete[0])\n",
    "plt.loglog(Cls_obs_clean_smooth[0])\n",
    "plt.loglog(Cl_clean)\n",
    "\n"
   ],
   "id": "768a90467668574e",
   "execution_count": 7,
   "outputs": []
  },
  {
   "metadata": {
    "ExecuteTime": {
     "end_time": "2025-05-18T15:10:37.691876Z",
     "start_time": "2025-05-18T15:10:37.361916Z"
    }
   },
   "cell_type": "code",
   "source": [
    "plt.figure(figsize=[7, 7])\n",
    "plt.loglog(Cls_obs_dust_discrete[0])\n",
    "plt.loglog(Cls_obs_dust_smooth[0])\n",
    "plt.loglog(Cl_dust)"
   ],
   "id": "ee73e37b3038fc32",
   "execution_count": 8,
   "outputs": []
  },
  {
   "metadata": {
    "ExecuteTime": {
     "end_time": "2025-05-18T15:10:37.951529Z",
     "start_time": "2025-05-18T15:10:37.693727Z"
    }
   },
   "cell_type": "code",
   "source": [
    "plt.figure(figsize=[7, 7])\n",
    "plt.loglog(Cl_clean)\n",
    "plt.loglog(Cl_dust)"
   ],
   "id": "a7b93eadc30b462f",
   "execution_count": 9,
   "outputs": []
  },
  {
   "metadata": {
    "ExecuteTime": {
     "end_time": "2025-05-18T15:10:38.307325Z",
     "start_time": "2025-05-18T15:10:37.952524Z"
    }
   },
   "cell_type": "code",
   "source": [
    "plt.figure(figsize=[10, 10])\n",
    "plt.loglog(Cls_obs_dust_discrete[0])\n",
    "plt.loglog(Cl_dust, label= \"dust\")\n",
    "plt.loglog(Cl_clean,label =\"clean\")\n",
    "plt.legend()"
   ],
   "id": "11629487abf05ca9",
   "execution_count": 10,
   "outputs": []
  },
  {
   "metadata": {
    "ExecuteTime": {
     "end_time": "2025-05-18T15:10:38.777372Z",
     "start_time": "2025-05-18T15:10:38.308900Z"
    }
   },
   "cell_type": "code",
   "source": [
    "plt.figure(figsize=[7, 7])\n",
    "plt.loglog(Cls_obs_dust_discrete[0])\n",
    "plt.loglog(Cls_obs_dust_smooth[0])\n",
    "#plt.loglog(Cls_obs_clean_smooth[0])\n",
    "plt.loglog(Cl_dust, label = r'$Cl^{\\mathrm{dust}}$')\n",
    "plt.loglog(Cl_clean, label = r'$Cl^{\\mathrm{clean}}$')\n",
    "plt.legend()"
   ],
   "id": "ef64420e2e36566c",
   "execution_count": 11,
   "outputs": []
  },
  {
   "metadata": {
    "ExecuteTime": {
     "end_time": "2025-05-17T14:52:32.651386Z",
     "start_time": "2025-05-17T14:52:32.650181Z"
    }
   },
   "cell_type": "code",
   "source": "",
   "id": "f8e723a74106c172",
   "execution_count": 9,
   "outputs": []
  },
  {
   "metadata": {
    "ExecuteTime": {
     "end_time": "2025-05-17T14:52:32.653171Z",
     "start_time": "2025-05-17T14:52:32.651883Z"
    }
   },
   "cell_type": "code",
   "source": "",
   "id": "ead384e101d60eba",
   "execution_count": 9,
   "outputs": []
  }
 ],
 "metadata": {
  "kernelspec": {
   "display_name": "Python 3",
   "language": "python",
   "name": "python3"
  },
  "language_info": {
   "codemirror_mode": {
    "name": "ipython",
    "version": 2
   },
   "file_extension": ".py",
   "mimetype": "text/x-python",
   "name": "python",
   "nbconvert_exporter": "python",
   "pygments_lexer": "ipython2",
   "version": "2.7.6"
  }
 },
 "nbformat": 4,
 "nbformat_minor": 5
}
