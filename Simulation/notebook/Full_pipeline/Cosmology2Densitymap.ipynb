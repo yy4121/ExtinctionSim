{
 "cells": [
  {
   "cell_type": "code",
   "id": "initial_id",
   "metadata": {
    "collapsed": true,
    "ExecuteTime": {
     "end_time": "2025-07-17T13:27:48.873148Z",
     "start_time": "2025-07-17T13:27:32.078129Z"
    }
   },
   "source": [
    "import Simulation.pys.para.initial_para as Cp\n",
    "import Simulation.pys.para.model_para as Mp\n",
    "import Simulation.pys.full_sim.cosmo2cl as Cl\n",
    "import Simulation.pys.full_sim.cl2realization as realization\n",
    "import matplotlib.pyplot as plt\n",
    "from time import time\n",
    "from importlib import reload\n",
    "import pickle as pkl\n",
    "from astropy import units as u"
   ],
   "execution_count": 1,
   "outputs": []
  },
  {
   "metadata": {
    "ExecuteTime": {
     "end_time": "2025-07-17T13:28:23.863690Z",
     "start_time": "2025-07-17T13:28:23.859879Z"
    }
   },
   "cell_type": "code",
   "source": [
    "para_C = Cp.prior_cosmo_Gaussian()\n",
    "para_D = Cp.prior_EBV()"
   ],
   "id": "308ca541ed2079c4",
   "execution_count": 2,
   "outputs": []
  },
  {
   "metadata": {
    "ExecuteTime": {
     "end_time": "2025-07-17T13:30:40.916210Z",
     "start_time": "2025-07-17T13:29:08.235733Z"
    }
   },
   "cell_type": "code",
   "source": [
    "start = time()\n",
    "shell = Cl.Shell_Cls(para_C, Mp.zbin_in,upper_f=0.8, plot=True)\n",
    "shell_cl = shell.cls_shell_theory(Mp.lmax)\n",
    "plt.figure()\n",
    "total_cl_nowin = shell.cls_total_theory_nowin(Mp.lmax, Mp.Ncount_hist, plot=True)\n",
    "total_cl_win = shell.cls_total_theory_withwin(Mp.lmax, Mp.Ncount_hist, plot=True)\n",
    "end = time()\n",
    "print(end-start)"
   ],
   "id": "747a243c26636303",
   "execution_count": 3,
   "outputs": []
  },
  {
   "metadata": {
    "ExecuteTime": {
     "end_time": "2025-07-17T13:32:05.237755Z",
     "start_time": "2025-07-17T13:32:05.217646Z"
    }
   },
   "cell_type": "code",
   "source": [
    "import numpy as np\n",
    "np.shape(shell_cl)"
   ],
   "id": "711f64e73f6a3993",
   "execution_count": 4,
   "outputs": []
  },
  {
   "metadata": {
    "ExecuteTime": {
     "end_time": "2025-07-17T13:33:50.734849Z",
     "start_time": "2025-07-17T13:33:50.727659Z"
    }
   },
   "cell_type": "code",
   "source": "np.save('../../data/test_model/camb_40cls.npy', shell_cl) ",
   "id": "b9341fd2e9f86c2b",
   "execution_count": 6,
   "outputs": []
  },
  {
   "metadata": {
    "ExecuteTime": {
     "end_time": "2025-07-17T13:33:54.437295Z",
     "start_time": "2025-07-17T13:33:54.246507Z"
    }
   },
   "cell_type": "code",
   "source": "Cl.Compare_Cls(total_cl_win, total_cl_nowin)",
   "id": "eaaa609fbbe6879f",
   "execution_count": 7,
   "outputs": []
  },
  {
   "metadata": {
    "ExecuteTime": {
     "end_time": "2025-07-17T13:34:26.992861Z",
     "start_time": "2025-07-17T13:34:06.198130Z"
    }
   },
   "cell_type": "code",
   "source": [
    "G = realization.GenerateShell(40, shell_cl, Mp.lmax, Mp.nside)\n",
    "Density_map_shell = G.realization_density(lognormal=True)\n",
    "R = realization.Realization_i(Density_map_shell, G)"
   ],
   "id": "f308e4af317db058",
   "execution_count": 8,
   "outputs": []
  },
  {
   "metadata": {
    "ExecuteTime": {
     "end_time": "2025-07-17T13:34:29.778408Z",
     "start_time": "2025-07-17T13:34:29.773400Z"
    }
   },
   "cell_type": "code",
   "source": "np.save('../../data/test_model/camb_40gls.npy', G.gls) ",
   "id": "9dd69ab406a74786",
   "execution_count": 9,
   "outputs": []
  },
  {
   "metadata": {
    "ExecuteTime": {
     "end_time": "2025-07-17T13:34:41.540311Z",
     "start_time": "2025-07-17T13:34:33.035758Z"
    }
   },
   "cell_type": "code",
   "source": "R.calculate_cls_auto([1,2,3,4,5,6,7,8], Mp.lmax, plot = True, Poisson = True)",
   "id": "6cc06901f34f28c",
   "execution_count": 10,
   "outputs": []
  },
  {
   "metadata": {
    "ExecuteTime": {
     "end_time": "2025-07-17T13:34:53.315336Z",
     "start_time": "2025-07-17T13:34:44.753159Z"
    }
   },
   "cell_type": "code",
   "source": "R.calculate_cls_all([1,2,3], Mp.lmax, plot = True, Poisson = True)",
   "id": "955c7aae21a6b340",
   "execution_count": 11,
   "outputs": []
  },
  {
   "metadata": {
    "ExecuteTime": {
     "end_time": "2025-07-17T13:34:57.876371Z",
     "start_time": "2025-07-17T13:34:57.740591Z"
    }
   },
   "cell_type": "code",
   "source": [
    "total_cl_lc= shell.cls_total_linear_combination(shell_cl, G.cls_label_glass,Mp.Ncount_hist)\n",
    "Cl.Compare_Cls(total_cl_win, total_cl_lc)\n"
   ],
   "id": "4c92f4ac8126c170",
   "execution_count": 12,
   "outputs": []
  },
  {
   "metadata": {
    "ExecuteTime": {
     "end_time": "2025-07-17T13:35:07.760462Z",
     "start_time": "2025-07-17T13:35:07.758587Z"
    }
   },
   "cell_type": "code",
   "source": [
    "cosmo_pack = {\"density_map\":Density_map_shell,\n",
    "              \"cl_label\": G.cls_label_glass,\n",
    "              \"cl_shell\": shell_cl,\n",
    "              \"cosmo_p\": para_C}"
   ],
   "id": "871e362852ef7895",
   "execution_count": 13,
   "outputs": []
  },
  {
   "metadata": {
    "ExecuteTime": {
     "end_time": "2025-07-17T13:35:40.731166Z",
     "start_time": "2025-07-17T13:35:40.090073Z"
    }
   },
   "cell_type": "code",
   "source": [
    "with open('../../data/test_model/test_cosmo_pack.pkl', 'wb') as f:\n",
    "    pkl.dump(cosmo_pack, f)\n",
    "\n",
    "    \n"
   ],
   "id": "8e5abb3916f01e5b",
   "execution_count": 14,
   "outputs": []
  },
  {
   "metadata": {
    "ExecuteTime": {
     "end_time": "2025-05-10T23:54:46.698743Z",
     "start_time": "2025-05-10T23:54:46.697614Z"
    }
   },
   "cell_type": "code",
   "source": "",
   "id": "c3d754b4142831f2",
   "execution_count": 10,
   "outputs": []
  }
 ],
 "metadata": {
  "kernelspec": {
   "display_name": "Python 3",
   "language": "python",
   "name": "python3"
  },
  "language_info": {
   "codemirror_mode": {
    "name": "ipython",
    "version": 2
   },
   "file_extension": ".py",
   "mimetype": "text/x-python",
   "name": "python",
   "nbconvert_exporter": "python",
   "pygments_lexer": "ipython2",
   "version": "2.7.6"
  }
 },
 "nbformat": 4,
 "nbformat_minor": 5
}
