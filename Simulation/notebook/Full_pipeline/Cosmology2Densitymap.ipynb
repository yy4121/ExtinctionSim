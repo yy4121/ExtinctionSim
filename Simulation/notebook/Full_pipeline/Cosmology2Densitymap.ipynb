{
 "cells": [
  {
   "cell_type": "code",
   "id": "initial_id",
   "metadata": {
    "collapsed": true,
    "ExecuteTime": {
     "end_time": "2025-07-18T00:30:21.701120Z",
     "start_time": "2025-07-18T00:30:01.522253Z"
    }
   },
   "source": [
    "import Simulation.pys.para.initial_para as Cp\n",
    "import Simulation.pys.para.model_para as Mp\n",
    "import Simulation.pys.full_sim.cosmo2cl as Cl\n",
    "import Simulation.pys.full_sim.cl2realization as realization\n",
    "import matplotlib.pyplot as plt\n",
    "from time import time\n",
    "from importlib import reload\n",
    "import pickle as pkl\n",
    "from astropy import units as u"
   ],
   "execution_count": 2,
   "outputs": []
  },
  {
   "metadata": {
    "ExecuteTime": {
     "end_time": "2025-07-18T00:30:21.704711Z",
     "start_time": "2025-07-18T00:30:21.702399Z"
    }
   },
   "cell_type": "code",
   "source": [
    "para_C = Cp.prior_cosmo_Gaussian()\n",
    "para_D = Cp.prior_EBV()"
   ],
   "id": "308ca541ed2079c4",
   "execution_count": 3,
   "outputs": []
  },
  {
   "metadata": {
    "ExecuteTime": {
     "end_time": "2025-07-18T00:31:47.756118Z",
     "start_time": "2025-07-18T00:30:21.705232Z"
    }
   },
   "cell_type": "code",
   "source": [
    "start = time()\n",
    "shell = Cl.Shell_Cls(para_C, Mp.zbin_in,upper_f=0.8, plot=True)\n",
    "shell_cl = shell.cls_shell_theory(Mp.lmax)\n",
    "plt.figure()\n",
    "total_cl_nowin = shell.cls_total_theory_nowin(Mp.lmax, Mp.Ncount_hist, plot=True)\n",
    "total_cl_win = shell.cls_total_theory_withwin(Mp.lmax, Mp.Ncount_hist, plot=True)\n",
    "end = time()\n",
    "print(end-start)"
   ],
   "id": "747a243c26636303",
   "execution_count": 4,
   "outputs": []
  },
  {
   "metadata": {
    "ExecuteTime": {
     "end_time": "2025-07-18T00:31:58.067255Z",
     "start_time": "2025-07-18T00:31:58.061359Z"
    }
   },
   "cell_type": "code",
   "source": [
    "import numpy as np\n",
    "np.shape(shell_cl)"
   ],
   "id": "711f64e73f6a3993",
   "execution_count": 5,
   "outputs": []
  },
  {
   "metadata": {
    "ExecuteTime": {
     "end_time": "2025-07-18T00:31:59.497011Z",
     "start_time": "2025-07-18T00:31:59.488177Z"
    }
   },
   "cell_type": "code",
   "source": "# np.save('../../data/test_model/camb_40cls.npy', shell_cl) ",
   "id": "b9341fd2e9f86c2b",
   "execution_count": 6,
   "outputs": []
  },
  {
   "metadata": {
    "ExecuteTime": {
     "end_time": "2025-07-18T00:32:00.967051Z",
     "start_time": "2025-07-18T00:32:00.770367Z"
    }
   },
   "cell_type": "code",
   "source": "Cl.Compare_Cls(total_cl_win, total_cl_nowin)",
   "id": "eaaa609fbbe6879f",
   "execution_count": 7,
   "outputs": []
  },
  {
   "metadata": {
    "ExecuteTime": {
     "end_time": "2025-07-18T00:32:20.821610Z",
     "start_time": "2025-07-18T00:32:01.958470Z"
    }
   },
   "cell_type": "code",
   "source": [
    "G = realization.GenerateShell(40, shell_cl, Mp.lmax, Mp.nside)\n",
    "Density_map_shell = G.realization_density(lognormal=True)\n",
    "R = realization.Realization_i(Density_map_shell, G)"
   ],
   "id": "f308e4af317db058",
   "execution_count": 8,
   "outputs": []
  },
  {
   "metadata": {
    "ExecuteTime": {
     "end_time": "2025-07-18T00:32:20.826782Z",
     "start_time": "2025-07-18T00:32:20.822655Z"
    }
   },
   "cell_type": "code",
   "source": "# np.save('../../data/test_model/camb_40gls.npy', G.gls) ",
   "id": "9dd69ab406a74786",
   "execution_count": 9,
   "outputs": []
  },
  {
   "metadata": {
    "ExecuteTime": {
     "end_time": "2025-07-18T00:32:28.526665Z",
     "start_time": "2025-07-18T00:32:20.827354Z"
    }
   },
   "cell_type": "code",
   "source": "R.calculate_cls_auto([1,2,3,4,5,6,7,8], Mp.lmax, plot = True, Poisson = True)",
   "id": "6cc06901f34f28c",
   "execution_count": 10,
   "outputs": []
  },
  {
   "metadata": {
    "ExecuteTime": {
     "end_time": "2025-07-18T00:32:36.858203Z",
     "start_time": "2025-07-18T00:32:28.528012Z"
    }
   },
   "cell_type": "code",
   "source": "R.calculate_cls_all([1,2,3], Mp.lmax, plot = True, Poisson = True)",
   "id": "955c7aae21a6b340",
   "execution_count": 11,
   "outputs": []
  },
  {
   "metadata": {
    "ExecuteTime": {
     "end_time": "2025-07-18T00:32:36.984974Z",
     "start_time": "2025-07-18T00:32:36.858751Z"
    }
   },
   "cell_type": "code",
   "source": [
    "total_cl_lc= shell.cls_total_linear_combination(shell_cl, G.cls_label_glass,Mp.Ncount_hist)\n",
    "Cl.Compare_Cls(total_cl_win, total_cl_lc)\n"
   ],
   "id": "4c92f4ac8126c170",
   "execution_count": 12,
   "outputs": []
  },
  {
   "metadata": {
    "ExecuteTime": {
     "end_time": "2025-07-18T00:32:44.081033Z",
     "start_time": "2025-07-18T00:32:44.079036Z"
    }
   },
   "cell_type": "code",
   "source": [
    "cosmo_pack = {\"density_map\":Density_map_shell,\n",
    "              \"cl_label\": G.cls_label_glass,\n",
    "              \"cl_shell\": shell_cl,\n",
    "              \"cosmo_p\": para_C}"
   ],
   "id": "871e362852ef7895",
   "execution_count": 15,
   "outputs": []
  },
  {
   "metadata": {
    "ExecuteTime": {
     "end_time": "2025-07-18T00:32:45.926376Z",
     "start_time": "2025-07-18T00:32:45.555951Z"
    }
   },
   "cell_type": "code",
   "source": [
    "# with open('../../data/test_model/test_cosmo_pack.pkl', 'wb') as f:\n",
    "#     pkl.dump(cosmo_pack, f)\n",
    "\n",
    "    \n"
   ],
   "id": "8e5abb3916f01e5b",
   "execution_count": 16,
   "outputs": []
  },
  {
   "metadata": {
    "ExecuteTime": {
     "end_time": "2025-05-10T23:54:46.698743Z",
     "start_time": "2025-05-10T23:54:46.697614Z"
    }
   },
   "cell_type": "code",
   "source": "",
   "id": "c3d754b4142831f2",
   "execution_count": 10,
   "outputs": []
  }
 ],
 "metadata": {
  "kernelspec": {
   "display_name": "Python 3",
   "language": "python",
   "name": "python3"
  },
  "language_info": {
   "codemirror_mode": {
    "name": "ipython",
    "version": 2
   },
   "file_extension": ".py",
   "mimetype": "text/x-python",
   "name": "python",
   "nbconvert_exporter": "python",
   "pygments_lexer": "ipython2",
   "version": "2.7.6"
  }
 },
 "nbformat": 4,
 "nbformat_minor": 5
}
