{
 "cells": [
  {
   "cell_type": "code",
   "id": "initial_id",
   "metadata": {
    "collapsed": true,
    "ExecuteTime": {
     "end_time": "2025-07-18T00:33:17.317268Z",
     "start_time": "2025-07-18T00:33:17.307674Z"
    }
   },
   "source": [
    "import Simulation.pys.para.model_para as Mp\n",
    "import Simulation.pys.full_sim.Catalogue_one_shell as cata_shell\n",
    "from time import time\n",
    "from importlib import reload\n",
    "import pickle as pkl"
   ],
   "outputs": [],
   "execution_count": 14
  },
  {
   "metadata": {
    "ExecuteTime": {
     "end_time": "2025-07-18T00:33:19.008958Z",
     "start_time": "2025-07-18T00:33:18.845061Z"
    }
   },
   "cell_type": "code",
   "source": [
    "with open('../../data/test_model/test_cosmo_pack.pkl', 'rb') as f:\n",
    "    cosmo_pack = pkl.load(f)\n",
    "\n",
    "with open('../../data/test_model/test_dust_pack.pkl', 'rb') as f:\n",
    "    dust_pack = pkl.load(f)"
   ],
   "id": "a9afa3541c95665a",
   "outputs": [],
   "execution_count": 15
  },
  {
   "metadata": {
    "ExecuteTime": {
     "end_time": "2025-07-18T00:33:20.107528Z",
     "start_time": "2025-07-18T00:33:20.094683Z"
    }
   },
   "cell_type": "code",
   "source": "cosmo_pack.keys()",
   "id": "8a9d1895e53b950a",
   "outputs": [
    {
     "data": {
      "text/plain": [
       "dict_keys(['density_map', 'cl_label', 'cl_shell', 'cosmo_p'])"
      ]
     },
     "execution_count": 16,
     "metadata": {},
     "output_type": "execute_result"
    }
   ],
   "execution_count": 16
  },
  {
   "metadata": {
    "ExecuteTime": {
     "end_time": "2025-07-18T00:33:30.026193Z",
     "start_time": "2025-07-18T00:33:29.983027Z"
    }
   },
   "cell_type": "code",
   "source": [
    "obs_f = {\"EBV_in\": dust_pack['EBV_in'], #np.zeros_like(EBV_in),\n",
    "         \"EBV_out\": Mp.SFD, #np.zeros_like(EBV_out),\n",
    "         \"Band_coefficient_in\": dust_pack['band_coefficient_Rv'],\n",
    "         \"Band_coefficient_out\": dust_pack['band_coefficient_ccm_31'],\n",
    "         \"ErrorModel_clean\": Mp.errModel_clean,\n",
    "         \"ErrorModel_obs\":Mp.errModel_dust,\n",
    "         \"nside\":Mp.nside,\n",
    "         \"photoz_est\": [Mp.photo_z_estimator_RF],\n",
    "         \"Rv_map\":  dust_pack[\"Rv_map\"],\n",
    "         \"mask\": Mp.SFD<0.2,\n",
    "         \"zbin_in\": Mp.zbin_in,\n",
    "         \"zbin_out\": Mp.zbin_out}"
   ],
   "id": "da42111d0458c50b",
   "outputs": [],
   "execution_count": 18
  },
  {
   "metadata": {
    "ExecuteTime": {
     "end_time": "2025-07-18T00:33:36.106998Z",
     "start_time": "2025-07-18T00:33:34.972052Z"
    }
   },
   "cell_type": "code",
   "source": [
    "#From density map to Ncount expectation map\n",
    "Ncount_Exp_shell_map = cata_shell.ExpNcount_map_shells(cosmo_pack[\"density_map\"], Mp.Ncount_hist)"
   ],
   "id": "f518f92c90b57a6",
   "outputs": [],
   "execution_count": 19
  },
  {
   "metadata": {
    "ExecuteTime": {
     "end_time": "2025-07-18T00:33:40.130864Z",
     "start_time": "2025-07-18T00:33:37.460992Z"
    }
   },
   "cell_type": "code",
   "source": [
    "# Operation on one shell\n",
    "reload(cata_shell)\n",
    "shell_id = 30\n",
    "cata_one_shell = cata_shell.Catalogue_one_shell(Ncount_Exp_shell_map[shell_id], Mp.template_cata_shell[shell_id], obs_f)\n",
    "cata_one_shell.Sample_photometry()"
   ],
   "id": "5ebc1d4b63f29362",
   "outputs": [],
   "execution_count": 20
  },
  {
   "metadata": {
    "ExecuteTime": {
     "end_time": "2025-07-18T00:34:11.623363Z",
     "start_time": "2025-07-18T00:33:40.933261Z"
    }
   },
   "cell_type": "code",
   "source": [
    "reload(cata_shell)\n",
    "print(\"number of galalxy in this shell:\", len(cata_one_shell.sampled_catalogue_shell))\n",
    "cata_one_shell.Add_extinction_info()\n",
    "cata_one_shell.Add_Exintction()\n",
    "time1 = time()\n",
    "cata_one_shell.Add_noise(dust_noise = True, clean_noise = True)\n",
    "time2 = time()\n",
    "print(\"Time usage for adding noise: \", time2-time1)\n",
    "cata_one_shell.Dereddening()\n",
    "cata_one_shell.Estimate_photo_z(choice = \"dust\")\n",
    "time3 = time()\n",
    "print(\"Time usage for estimating photo z: \", time3-time2)\n",
    "cata_one_shell.Estimate_photo_z(choice = \"clean\")\n"
   ],
   "id": "4fd4f67cbb99dd17",
   "outputs": [
    {
     "name": "stdout",
     "output_type": "stream",
     "text": [
      "number of galalxy in this shell: 3765996\n",
      "Time usage for adding noise:  6.388761758804321\n",
      "Time usage for estimating photo z:  8.748862028121948\n"
     ]
    }
   ],
   "execution_count": 21
  },
  {
   "metadata": {
    "ExecuteTime": {
     "end_time": "2025-07-18T00:34:18.719823Z",
     "start_time": "2025-07-18T00:34:17.362403Z"
    }
   },
   "cell_type": "code",
   "source": [
    "hist_dust = cata_one_shell.Statistics_on_shell(Mp.zbin_out, \"dust\")\n",
    "hist_clean = cata_one_shell.Statistics_on_shell(Mp.zbin_out, \"clean\")"
   ],
   "id": "b55bf59f969348ba",
   "outputs": [],
   "execution_count": 22
  },
  {
   "metadata": {
    "ExecuteTime": {
     "end_time": "2025-07-18T00:57:15.532559Z",
     "start_time": "2025-07-18T00:34:21.510289Z"
    }
   },
   "cell_type": "code",
   "source": [
    "results = cata_shell.Simulate_shells(cosmo_pack[\"density_map\"],Mp.Ncount_hist,Mp.template_cata_shell,\n",
    "                           obs_f, Mp.zbin_out,choice = \"both\", expectation_total_sample=2e8)"
   ],
   "id": "689450b3cf299881",
   "outputs": [
    {
     "name": "stderr",
     "output_type": "stream",
     "text": [
      "100%|██████████| 40/40 [22:45<00:00, 34.14s/it]\n"
     ]
    }
   ],
   "execution_count": 23
  },
  {
   "metadata": {
    "ExecuteTime": {
     "end_time": "2025-07-18T00:57:28.384885Z",
     "start_time": "2025-07-18T00:57:15.536708Z"
    }
   },
   "cell_type": "code",
   "source": [
    "# with open('../../data/test_model/test_full_sim_result_pack1.pkl', 'wb') as f:\n",
    "#     pack = {\"cosmo_pack\": cosmo_pack, \"dust_pack\": dust_pack, \"data\": results, \"mask\":obs_f[\"mask\"]}\n",
    "#     pkl.dump(pack, f)"
   ],
   "id": "53150abd464037b0",
   "outputs": [],
   "execution_count": 24
  },
  {
   "metadata": {
    "ExecuteTime": {
     "end_time": "2025-07-17T15:26:05.632867Z",
     "start_time": "2025-07-17T15:26:05.630494Z"
    }
   },
   "cell_type": "code",
   "source": "",
   "id": "8591ec825129bff9",
   "execution_count": 11,
   "outputs": []
  }
 ],
 "metadata": {
  "kernelspec": {
   "display_name": "Python 3",
   "language": "python",
   "name": "python3"
  },
  "language_info": {
   "codemirror_mode": {
    "name": "ipython",
    "version": 2
   },
   "file_extension": ".py",
   "mimetype": "text/x-python",
   "name": "python",
   "nbconvert_exporter": "python",
   "pygments_lexer": "ipython2",
   "version": "2.7.6"
  }
 },
 "nbformat": 4,
 "nbformat_minor": 5
}
