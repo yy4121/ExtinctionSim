{
 "cells": [
  {
   "cell_type": "code",
   "id": "initial_id",
   "metadata": {
    "collapsed": true,
    "ExecuteTime": {
     "end_time": "2025-07-17T14:48:37.210822Z",
     "start_time": "2025-07-17T14:48:17.830221Z"
    }
   },
   "source": [
    "\n",
    "import Simulation.pys.para.model_para as Mp\n",
    "import Simulation.pys.full_sim.Catalogue_one_shell as cata_shell\n",
    "import numpy as np\n",
    "from importlib import reload\n",
    "import pickle as pkl"
   ],
   "execution_count": 1,
   "outputs": []
  },
  {
   "metadata": {
    "ExecuteTime": {
     "end_time": "2025-07-17T14:48:37.494444Z",
     "start_time": "2025-07-17T14:48:37.211784Z"
    }
   },
   "cell_type": "code",
   "source": [
    "with open('../Model_data/test_cosmo_pack.pkl', 'rb') as f:\n",
    "    cosmo_pack = pkl.load(f)\n",
    "\n",
    "with open('../Model_data/test_dust_pack.pkl', 'rb') as f:\n",
    "    dust_pack = pkl.load(f)"
   ],
   "id": "47304a699317aec9",
   "execution_count": 2,
   "outputs": []
  },
  {
   "metadata": {},
   "cell_type": "code",
   "source": [
    "with open('../quick_py/quick_Model_data/discrete_EBVRvmap.pkl', 'rb') as f:\n",
    "    retrived_map = pkl.load(f)"
   ],
   "id": "7fa60c03dd2a55a1",
   "execution_count": null,
   "outputs": []
  },
  {
   "metadata": {
    "ExecuteTime": {
     "end_time": "2025-05-17T13:08:26.194444Z",
     "start_time": "2025-05-17T13:08:26.187519Z"
    }
   },
   "cell_type": "code",
   "source": "np.ones_like(retrived_map['EBV_in_equ'])*3",
   "id": "4d9cbb731e3a66ab",
   "execution_count": 4,
   "outputs": []
  },
  {
   "metadata": {
    "ExecuteTime": {
     "end_time": "2025-05-17T13:08:26.202007Z",
     "start_time": "2025-05-17T13:08:26.195160Z"
    }
   },
   "cell_type": "code",
   "source": [
    "obs_f = {\"EBV_in\": retrived_map['EBV_in_equ'], #np.zeros_like(EBV_in),\n",
    "         \"EBV_out\": retrived_map['EBV_out_equ'], #np.zeros_like(EBV_out),\n",
    "         \"Band_coefficient_in\": dust_pack['band_coefficient_Rv'],\n",
    "         \"Band_coefficient_out\": dust_pack['band_coefficient_ccm_31'],\n",
    "         \"ErrorModel_clean\": Mp.errModel_clean,\n",
    "         \"ErrorModel_obs\":Mp.errModel_dust,\n",
    "         \"nside\":Mp.nside,\n",
    "         \"photoz_est\": [Mp.photo_z_estimator],\n",
    "         \"Rv_map\": retrived_map['Rv_equ'],\n",
    "         \"mask\": retrived_map['mask'] * np.array(Mp.SFD<0.2) == 1,\n",
    "         \"zbin_in\": Mp.zbin_in,\n",
    "         \"zbin_out\": Mp.zbin_out}\n",
    "\n"
   ],
   "id": "7633b8b5060668c1",
   "execution_count": 5,
   "outputs": []
  },
  {
   "metadata": {
    "ExecuteTime": {
     "end_time": "2025-05-17T13:08:26.219514Z",
     "start_time": "2025-05-17T13:08:26.202533Z"
    }
   },
   "cell_type": "code",
   "source": [
    "unique_vals, counts = np.unique(retrived_map['EBV_out_equ'], return_counts=True)\n",
    "print(\"Values:\", unique_vals)\n",
    "print(\"Counts:\", counts)"
   ],
   "id": "a9e70c7bacaf95af",
   "execution_count": 6,
   "outputs": []
  },
  {
   "metadata": {
    "ExecuteTime": {
     "end_time": "2025-05-17T13:08:27.363285Z",
     "start_time": "2025-05-17T13:08:26.221111Z"
    }
   },
   "cell_type": "code",
   "source": "Ncount_Exp_shell_map = cata_shell.ExpNcount_map_shells(cosmo_pack[\"density_map\"], Mp.Ncount_hist)",
   "id": "d54996397bf32209",
   "execution_count": 7,
   "outputs": []
  },
  {
   "metadata": {
    "ExecuteTime": {
     "end_time": "2025-05-17T13:08:29.291833Z",
     "start_time": "2025-05-17T13:08:27.369057Z"
    }
   },
   "cell_type": "code",
   "source": [
    "reload(cata_shell)\n",
    "shell_id = 3\n",
    "cata_one_shell = cata_shell.Catalogue_one_shell(Ncount_Exp_shell_map[shell_id], Mp.template_cata_shell[shell_id], obs_f)\n",
    "cata_one_shell.Sample_photometry()"
   ],
   "id": "ffaca4ca471cc6f7",
   "execution_count": 8,
   "outputs": []
  },
  {
   "metadata": {
    "ExecuteTime": {
     "end_time": "2025-05-17T13:08:45.596871Z",
     "start_time": "2025-05-17T13:08:29.292686Z"
    }
   },
   "cell_type": "code",
   "source": [
    "reload(cata_shell)\n",
    "cata_one_shell.Add_extinction_info()\n",
    "cata_one_shell.Add_Exintction()\n",
    "cata_one_shell.Add_noise(True, True)\n",
    "cata_one_shell.Dereddening()\n",
    "cata_one_shell.Estimate_photo_z(choice = \"dust\")\n",
    "cata_one_shell.Estimate_photo_z(choice = \"clean\")\n"
   ],
   "id": "a03c610c83ce9bac",
   "execution_count": 9,
   "outputs": []
  },
  {
   "metadata": {
    "ExecuteTime": {
     "end_time": "2025-05-17T13:08:45.620083Z",
     "start_time": "2025-05-17T13:08:45.598878Z"
    }
   },
   "cell_type": "code",
   "source": "cata_one_shell.sampled_catalogue_shell[[\"EBV_in\"]].value_counts()",
   "id": "52b518c5007a63a7",
   "execution_count": 10,
   "outputs": []
  },
  {
   "metadata": {
    "ExecuteTime": {
     "end_time": "2025-05-17T13:08:45.638261Z",
     "start_time": "2025-05-17T13:08:45.620724Z"
    }
   },
   "cell_type": "code",
   "source": "cata_one_shell.sampled_catalogue_shell[[\"EBV_out\"]].value_counts()",
   "id": "77c79307ed886883",
   "execution_count": 11,
   "outputs": []
  },
  {
   "metadata": {
    "ExecuteTime": {
     "end_time": "2025-05-17T13:08:46.310402Z",
     "start_time": "2025-05-17T13:08:45.638893Z"
    }
   },
   "cell_type": "code",
   "source": [
    "hist_dust = cata_one_shell.Statistics_on_shell(Mp.zbin_out, \"dust\")\n",
    "hist_clean = cata_one_shell.Statistics_on_shell(Mp.zbin_out, \"clean\")"
   ],
   "id": "f6172fee8de59576",
   "execution_count": 12,
   "outputs": []
  },
  {
   "metadata": {
    "ExecuteTime": {
     "end_time": "2025-05-17T13:08:46.313441Z",
     "start_time": "2025-05-17T13:08:46.310997Z"
    }
   },
   "cell_type": "code",
   "source": "np.shape(hist_dust)",
   "id": "edb95038663c12a2",
   "execution_count": 13,
   "outputs": []
  },
  {
   "metadata": {
    "ExecuteTime": {
     "end_time": "2025-05-17T13:08:46.318921Z",
     "start_time": "2025-05-17T13:08:46.314018Z"
    }
   },
   "cell_type": "code",
   "source": [
    "mask__ =  retrived_map['mask'] & ~ np.array(Mp.SFD < 0.2)\n",
    "indices = np.where(mask__)[0]"
   ],
   "id": "37e38a15e3c04d66",
   "execution_count": 14,
   "outputs": []
  },
  {
   "metadata": {
    "ExecuteTime": {
     "end_time": "2025-05-17T13:08:46.320875Z",
     "start_time": "2025-05-17T13:08:46.319500Z"
    }
   },
   "cell_type": "code",
   "source": "",
   "id": "9df1efeaf3fb30a7",
   "execution_count": 14,
   "outputs": []
  },
  {
   "metadata": {
    "ExecuteTime": {
     "end_time": "2025-05-17T13:32:23.501651Z",
     "start_time": "2025-05-17T13:08:46.321365Z"
    }
   },
   "cell_type": "code",
   "source": [
    "results = cata_shell.Simulate_shells(cosmo_pack[\"density_map\"],Mp.Ncount_hist,Mp.template_cata_shell,\n",
    "                           obs_f,Mp.zbin_out,choice = \"both\", expectation_total_sample=2e8)"
   ],
   "id": "2b49b99659bf021f",
   "execution_count": 15,
   "outputs": []
  },
  {
   "metadata": {
    "ExecuteTime": {
     "end_time": "2025-05-17T13:33:14.259334Z",
     "start_time": "2025-05-17T13:33:02.460546Z"
    }
   },
   "cell_type": "code",
   "source": [
    "with open('../Model_data/test_simulation_result_pack_discrete.pkl', 'wb') as f:\n",
    "    pack = {\"cosmo_pack\": cosmo_pack, \"dust_pack\": dust_pack, \"data\": results, \"mask\":obs_f[\"mask\"]}\n",
    "    pkl.dump(pack, f)"
   ],
   "id": "af9161e6c3492c51",
   "execution_count": 17,
   "outputs": []
  },
  {
   "metadata": {
    "ExecuteTime": {
     "end_time": "2025-05-17T13:32:41.226165Z",
     "start_time": "2025-05-17T13:32:41.224381Z"
    }
   },
   "cell_type": "code",
   "source": "",
   "id": "d37c01476c86ff04",
   "execution_count": 16,
   "outputs": []
  }
 ],
 "metadata": {
  "kernelspec": {
   "display_name": "Python 3",
   "language": "python",
   "name": "python3"
  },
  "language_info": {
   "codemirror_mode": {
    "name": "ipython",
    "version": 2
   },
   "file_extension": ".py",
   "mimetype": "text/x-python",
   "name": "python",
   "nbconvert_exporter": "python",
   "pygments_lexer": "ipython2",
   "version": "2.7.6"
  }
 },
 "nbformat": 4,
 "nbformat_minor": 5
}
