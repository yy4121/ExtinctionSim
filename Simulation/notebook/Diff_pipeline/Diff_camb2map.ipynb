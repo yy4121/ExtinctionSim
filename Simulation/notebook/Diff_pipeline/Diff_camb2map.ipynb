{
 "cells": [
  {
   "cell_type": "code",
   "id": "initial_id",
   "metadata": {
    "collapsed": true,
    "ExecuteTime": {
     "end_time": "2025-07-19T03:09:03.837544Z",
     "start_time": "2025-07-19T03:08:45.460388Z"
    }
   },
   "source": [
    "import numpy as np\n",
    "import tqdm as tqdm\n",
    "nside = 512\n",
    "npix = 12 * nside**2\n",
    "N = np.full(npix, 1, dtype=np.int32)\n",
    "pixel_probs = np.random.dirichlet(np.ones(5), size=npix)\n",
    "\n",
    "def multinomial_5(N, probs):\n",
    "    counts = np.zeros((npix, 5), dtype=np.int32)\n",
    "    remaining = N.copy()\n",
    "    rem_prob = np.ones(npix)\n",
    "\n",
    "    for k in range(4):  # 4 binomial draws\n",
    "        p_k = probs[:, k] / rem_prob\n",
    "        c_k = np.random.binomial(remaining, p_k)\n",
    "        counts[:, k] = c_k\n",
    "        remaining -= c_k\n",
    "        rem_prob -= probs[:, k]\n",
    "\n",
    "    counts[:, 4] = remaining  # last category is remainder\n",
    "    return counts\n",
    "\n",
    "n_realizations = 40\n",
    "results = []\n",
    "\n",
    "for _ in tqdm.tqdm(range(n_realizations)):\n",
    "    counts = multinomial_5(N, pixel_probs)\n",
    "    results.append(counts)\n"
   ],
   "outputs": [
    {
     "name": "stderr",
     "output_type": "stream",
     "text": [
      "100%|██████████| 40/40 [00:18<00:00,  2.21it/s]\n"
     ]
    }
   ],
   "execution_count": 5
  },
  {
   "metadata": {},
   "cell_type": "code",
   "outputs": [],
   "execution_count": null,
   "source": "",
   "id": "2a59513bc05bf88e"
  }
 ],
 "metadata": {
  "kernelspec": {
   "display_name": "Python 3",
   "language": "python",
   "name": "python3"
  },
  "language_info": {
   "codemirror_mode": {
    "name": "ipython",
    "version": 2
   },
   "file_extension": ".py",
   "mimetype": "text/x-python",
   "name": "python",
   "nbconvert_exporter": "python",
   "pygments_lexer": "ipython2",
   "version": "2.7.6"
  }
 },
 "nbformat": 4,
 "nbformat_minor": 5
}
