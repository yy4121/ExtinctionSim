{
 "cells": [
  {
   "cell_type": "code",
   "id": "initial_id",
   "metadata": {
    "collapsed": true,
    "ExecuteTime": {
     "end_time": "2025-06-27T12:44:10.837088Z",
     "start_time": "2025-06-27T12:43:54.298515Z"
    }
   },
   "source": [
    "import Simulation.pys.para.initial_para as Cp\n",
    "import Simulation.pys.para.model_para as Mp\n",
    "import Simulation.pys.cosmo.Cls_theory as Cl\n",
    "import Simulation.pys.cosmo.Cls_realization as realization\n",
    "import matplotlib.pyplot as plt\n",
    "from time import time\n",
    "from importlib import reload\n",
    "import pickle as pkl\n",
    "from astropy import units as u\n",
    "import tqdm\n",
    "import numpy as np\n",
    "import time\n",
    "reload(Cp)"
   ],
   "execution_count": 1,
   "outputs": []
  },
  {
   "metadata": {
    "ExecuteTime": {
     "end_time": "2025-06-27T12:44:30.256621Z",
     "start_time": "2025-06-27T12:44:23.364230Z"
    }
   },
   "cell_type": "code",
   "source": [
    "time1 = time.time()\n",
    "#data11 = np.loadtxt(\"../Model_data/camb_emulator_full.csv\", delimiter=',')\n",
    "data11 = np.load(\"full_data_part1.npy\")\n",
    "\n",
    "time2 = time.time()\n",
    "print(time2-time1)"
   ],
   "id": "3692c874322ec9a1",
   "execution_count": 3,
   "outputs": []
  },
  {
   "metadata": {
    "ExecuteTime": {
     "end_time": "2025-06-27T12:45:42.797730Z",
     "start_time": "2025-06-27T12:45:32.926749Z"
    }
   },
   "cell_type": "code",
   "source": [
    "#data12 = np.loadtxt(\"../Model_data/camb_emulator_full2.csv\", delimiter=',')\n",
    "data12 = np.load(\"full_data_part2.npy\")\n",
    "time3 = time.time()\n",
    "print(time3-time2)"
   ],
   "id": "7f8a314f3bf24d8f",
   "execution_count": 6,
   "outputs": []
  },
  {
   "metadata": {
    "ExecuteTime": {
     "end_time": "2025-06-27T12:45:56.342537Z",
     "start_time": "2025-06-27T12:45:42.802815Z"
    }
   },
   "cell_type": "code",
   "source": [
    "#data12 = np.loadtxt(\"../Model_data/camb_emulator_full2.csv\", delimiter=',')\n",
    "data13 = np.load(\"full_data_part3.npy\")\n",
    "time3 = time.time()\n",
    "print(time3-time2)"
   ],
   "id": "97ab9a43e15ac840",
   "execution_count": 7,
   "outputs": []
  },
  {
   "metadata": {
    "ExecuteTime": {
     "end_time": "2025-06-27T10:37:04.420267Z",
     "start_time": "2025-06-27T10:35:39.606284Z"
    }
   },
   "cell_type": "code",
   "source": [
    "# data14 = np.loadtxt(\"../Model_data/camb_emulator_full4.csv\", delimiter=',')\n",
    "# time4 = time.time()\n",
    "# print(time4-time3)"
   ],
   "id": "e4b0282742457133",
   "execution_count": 5,
   "outputs": []
  },
  {
   "metadata": {
    "ExecuteTime": {
     "end_time": "2025-06-27T12:46:37.732406Z",
     "start_time": "2025-06-27T12:46:37.727061Z"
    }
   },
   "cell_type": "code",
   "source": "np.shape(data11)",
   "id": "4d9198919bf5750e",
   "execution_count": 8,
   "outputs": []
  },
  {
   "metadata": {
    "ExecuteTime": {
     "end_time": "2025-06-27T12:53:41.451950Z",
     "start_time": "2025-06-27T12:53:41.434642Z"
    }
   },
   "cell_type": "code",
   "source": "840500/1025",
   "id": "bdd00889f486958a",
   "execution_count": 15,
   "outputs": []
  },
  {
   "metadata": {
    "ExecuteTime": {
     "end_time": "2025-06-27T12:46:38.871822Z",
     "start_time": "2025-06-27T12:46:38.869614Z"
    }
   },
   "cell_type": "code",
   "source": [
    "# np.save('full_data_part1.npy', data11)\n",
    "# np.save('full_data_part2.npy', data12)\n",
    "# np.save('full_data_part3.npy', data13)"
   ],
   "id": "556c165bc7766590",
   "execution_count": 9,
   "outputs": []
  },
  {
   "metadata": {
    "ExecuteTime": {
     "end_time": "2025-06-27T12:46:39.870242Z",
     "start_time": "2025-06-27T12:46:39.684634Z"
    }
   },
   "cell_type": "code",
   "source": [
    "sample_para=data11[0, :5]\n",
    "sample_cls=data11[0, 5:].reshape((-1, 1025))\n",
    "G = realization.GenerateShell(40, sample_cls, Mp.lmax, Mp.nside)\n",
    "label_list = G.cls_label_glass"
   ],
   "id": "64a15904fe045343",
   "execution_count": 10,
   "outputs": []
  },
  {
   "metadata": {
    "ExecuteTime": {
     "end_time": "2025-06-27T12:46:50.155553Z",
     "start_time": "2025-06-27T12:46:50.136084Z"
    }
   },
   "cell_type": "code",
   "source": "label_list",
   "id": "f55e008c680a217",
   "execution_count": 11,
   "outputs": []
  },
  {
   "metadata": {
    "ExecuteTime": {
     "end_time": "2025-06-27T12:46:55.352706Z",
     "start_time": "2025-06-27T12:46:55.347230Z"
    }
   },
   "cell_type": "code",
   "source": [
    "auto_cross1_label_list = []\n",
    "auto_cross1_index_list = []\n",
    "for i, label in enumerate(label_list):\n",
    "    if label[1]-label[0] == 0:\n",
    "        #or label[1]-label[0]== -1:\n",
    "        auto_cross1_label_list.append(label)\n",
    "        auto_cross1_index_list.append(i)\n",
    "        "
   ],
   "id": "ff281dd821f58858",
   "execution_count": 12,
   "outputs": []
  },
  {
   "metadata": {
    "ExecuteTime": {
     "end_time": "2025-06-27T12:46:57.303036Z",
     "start_time": "2025-06-27T12:46:57.298276Z"
    }
   },
   "cell_type": "code",
   "source": "auto_cross1_index_list",
   "id": "6f97d6fd87a7c612",
   "execution_count": 13,
   "outputs": []
  },
  {
   "metadata": {
    "ExecuteTime": {
     "end_time": "2025-06-27T12:47:21.738442Z",
     "start_time": "2025-06-27T12:47:21.733304Z"
    }
   },
   "cell_type": "code",
   "source": "np.save(\"auto_index_list.npy\", auto_cross1_index_list)",
   "id": "572f28af4c04905c",
   "execution_count": 14,
   "outputs": []
  },
  {
   "metadata": {
    "ExecuteTime": {
     "end_time": "2025-06-27T10:40:29.007426Z",
     "start_time": "2025-06-27T10:40:29.002241Z"
    }
   },
   "cell_type": "code",
   "source": [
    "def get_auto_firstcorss(one_data):\n",
    "    para_part = one_data[:5]\n",
    "    data_cl = one_data[5:].reshape(-1, 1025)\n",
    "    auto_cross1_part = data_cl[auto_cross1_index_list]\n",
    "    cl_part = np.concatenate(auto_cross1_part)\n",
    "    all = np.concatenate([para_part, cl_part])\n",
    "    return all"
   ],
   "id": "e2d87347057cf85f",
   "execution_count": 15,
   "outputs": []
  },
  {
   "metadata": {
    "ExecuteTime": {
     "end_time": "2025-06-27T10:40:32.733953Z",
     "start_time": "2025-06-27T10:40:30.863722Z"
    }
   },
   "cell_type": "code",
   "source": [
    "data_auto_cross = []\n",
    "for i in tqdm.tqdm(data11):\n",
    "    data_auto_cross.append(get_auto_firstcorss(i))\n",
    "for i in tqdm.tqdm(data12):\n",
    "    data_auto_cross.append(get_auto_firstcorss(i))\n",
    "for i in tqdm.tqdm(data13):\n",
    "    data_auto_cross.append(get_auto_firstcorss(i))\n",
    "for i in tqdm.tqdm(data14):\n",
    "    data_auto_cross.append(get_auto_firstcorss(i))\n",
    "    \n"
   ],
   "id": "78d6b4f2406c503d",
   "execution_count": 16,
   "outputs": []
  },
  {
   "metadata": {
    "ExecuteTime": {
     "end_time": "2025-06-27T10:41:47.969267Z",
     "start_time": "2025-06-27T10:41:45.804137Z"
    }
   },
   "cell_type": "code",
   "source": "data2 = np.loadtxt(\"../Model_data/camb_emulator.csv\", delimiter=',')",
   "id": "f23a716cc292fe12",
   "execution_count": 17,
   "outputs": []
  },
  {
   "metadata": {
    "ExecuteTime": {
     "end_time": "2025-06-27T10:42:22.463355Z",
     "start_time": "2025-06-27T10:42:19.241121Z"
    }
   },
   "cell_type": "code",
   "source": "data_together = np.concatenate([np.array(data_auto_cross),data2])",
   "id": "a7105feb8925062e",
   "execution_count": 18,
   "outputs": []
  },
  {
   "metadata": {
    "ExecuteTime": {
     "end_time": "2025-06-27T10:42:28.491790Z",
     "start_time": "2025-06-27T10:42:28.487643Z"
    }
   },
   "cell_type": "code",
   "source": "np.shape(data_together)",
   "id": "6477ea195b46fb13",
   "execution_count": 19,
   "outputs": []
  },
  {
   "metadata": {
    "ExecuteTime": {
     "end_time": "2025-06-27T10:42:58.847664Z",
     "start_time": "2025-06-27T10:42:56.589746Z"
    }
   },
   "cell_type": "code",
   "source": "# np.save('auto_only.npy', data_together)",
   "id": "60743a64eba3f3b0",
   "execution_count": 20,
   "outputs": []
  },
  {
   "metadata": {
    "ExecuteTime": {
     "end_time": "2025-06-27T10:44:50.822466Z",
     "start_time": "2025-06-27T10:43:03.474318Z"
    }
   },
   "cell_type": "code",
   "source": "data_f = np.loadtxt(\"../Model_data/camb_emulator_full_f.csv\", delimiter=',')",
   "id": "f567fb29e5e95c3b",
   "execution_count": 21,
   "outputs": []
  },
  {
   "metadata": {
    "ExecuteTime": {
     "end_time": "2025-06-27T10:45:13.799781Z",
     "start_time": "2025-06-27T10:45:13.797025Z"
    }
   },
   "cell_type": "code",
   "source": "data_f_auto_cross = get_auto_firstcorss(data_f[0])",
   "id": "4c2bb61107d27585",
   "execution_count": 23,
   "outputs": []
  },
  {
   "metadata": {
    "ExecuteTime": {
     "end_time": "2025-06-27T10:45:14.219534Z",
     "start_time": "2025-06-27T10:45:14.216054Z"
    }
   },
   "cell_type": "code",
   "source": "np.shape(data_f_auto_cross)",
   "id": "9fd04d43c02823ae",
   "execution_count": 24,
   "outputs": []
  },
  {
   "metadata": {
    "ExecuteTime": {
     "end_time": "2025-06-27T10:45:15.153564Z",
     "start_time": "2025-06-27T10:45:15.147991Z"
    }
   },
   "cell_type": "code",
   "source": "# np.save('auto_only_f.npy', data_f_auto_cross)",
   "id": "8d3c1155e87d2f3c",
   "execution_count": 25,
   "outputs": []
  },
  {
   "metadata": {},
   "cell_type": "code",
   "execution_count": null,
   "source": "",
   "id": "c206588888506439",
   "outputs": []
  },
  {
   "metadata": {
    "ExecuteTime": {
     "end_time": "2025-06-22T14:37:41.571441Z",
     "start_time": "2025-06-22T14:37:41.546728Z"
    }
   },
   "cell_type": "code",
   "source": [
    "# def get_auto(one_data):\n",
    "#     para_part = one_data[:5]\n",
    "#     data_cl = one_data[5:].reshape(-1, 1025)\n",
    "#     G = realization.GenerateShell(40, data_cl, Mp.lmax, Mp.nside)\n",
    "#     cl_part = np.concatenate(G.auto_cls_glass())\n",
    "#     all = np.concatenate([para_part, cl_part])\n",
    "#     return all\n",
    "    "
   ],
   "id": "d621e927790236a1",
   "execution_count": 9,
   "outputs": []
  },
  {
   "metadata": {
    "ExecuteTime": {
     "end_time": "2025-06-22T14:39:33.020211Z",
     "start_time": "2025-06-22T14:37:41.576047Z"
    }
   },
   "cell_type": "code",
   "source": [
    "# data1_auto = []\n",
    "# for i in tqdm.tqdm(data1):\n",
    "#     data1_auto.append(get_auto(i))\n",
    "    "
   ],
   "id": "594f5a5825b3bf1b",
   "execution_count": 10,
   "outputs": []
  },
  {
   "metadata": {},
   "cell_type": "code",
   "execution_count": null,
   "source": [
    "data3_auto = []\n",
    "for i in tqdm.tqdm(data13):\n",
    "    data1_auto.append(get_auto(i))\n",
    "    "
   ],
   "id": "b9d6025bfe1cbead",
   "outputs": []
  },
  {
   "metadata": {
    "ExecuteTime": {
     "end_time": "2025-06-22T14:39:39.134419Z",
     "start_time": "2025-06-22T14:39:33.025529Z"
    }
   },
   "cell_type": "code",
   "source": "data_together = np.concatenate([data1_auto, data2])",
   "id": "3d6430bc5b314cbb",
   "execution_count": 11,
   "outputs": []
  },
  {
   "metadata": {
    "ExecuteTime": {
     "end_time": "2025-06-22T14:39:39.140651Z",
     "start_time": "2025-06-22T14:39:39.135536Z"
    }
   },
   "cell_type": "code",
   "source": "np.shape(data_together)",
   "id": "dd70709e2180e389",
   "execution_count": 12,
   "outputs": []
  },
  {
   "metadata": {
    "ExecuteTime": {
     "end_time": "2025-06-22T14:39:39.898980Z",
     "start_time": "2025-06-22T14:39:39.141598Z"
    }
   },
   "cell_type": "code",
   "source": [
    "np.shape(data_together)\n",
    "np.save('auto_only.npy', data_together)"
   ],
   "id": "36d6464e8aa0185c",
   "execution_count": 13,
   "outputs": []
  },
  {
   "metadata": {
    "ExecuteTime": {
     "end_time": "2025-06-20T13:44:20.067681Z",
     "start_time": "2025-06-20T13:44:19.711417Z"
    }
   },
   "cell_type": "code",
   "source": [
    "plt.scatter(data_together[0:808,0], data_together[0:808,1], label=\"Camb Emulator\", s=2)\n",
    "plt.scatter(data_together[808:1058,0], data_together[808:1058,1], label=\"Camb Emulator\", s=2)\n",
    "plt.scatter(data_together[1058:,0], data_together[1058:,1], label=\"Camb Emulator\", s=2, color=\"r\")\n",
    "#plt.scatter(data[:,0], data[:,1], label=\"Camb Emulator\", s=2)\n",
    "\n",
    "#plt.scatter(data[230:,0], data[230:,1], label=\"Camb Emulator\", color = \"red\")"
   ],
   "id": "d78d2070ca54fa80",
   "execution_count": 15,
   "outputs": []
  }
 ],
 "metadata": {
  "kernelspec": {
   "display_name": "Python 3",
   "language": "python",
   "name": "python3"
  },
  "language_info": {
   "codemirror_mode": {
    "name": "ipython",
    "version": 2
   },
   "file_extension": ".py",
   "mimetype": "text/x-python",
   "name": "python",
   "nbconvert_exporter": "python",
   "pygments_lexer": "ipython2",
   "version": "2.7.6"
  }
 },
 "nbformat": 4,
 "nbformat_minor": 5
}
