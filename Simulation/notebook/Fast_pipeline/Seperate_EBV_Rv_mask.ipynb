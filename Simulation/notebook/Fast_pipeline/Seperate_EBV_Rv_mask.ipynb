{
 "cells": [
  {
   "cell_type": "code",
   "id": "initial_id",
   "metadata": {
    "collapsed": true,
    "ExecuteTime": {
     "end_time": "2025-07-17T22:05:00.020040Z",
     "start_time": "2025-07-17T22:05:00.013248Z"
    }
   },
   "source": [
    "import Simulation.pys.fast_sim.EBV_Rv_mask_acc as ER_map\n",
    "from importlib import reload\n",
    "import numpy as np\n",
    "import pickle as pkl\n",
    "import Simulation.pys.para.model_para as Mp\n",
    "import Simulation.pys.para.fast_para as qMp\n",
    "import matplotlib.pyplot as plt\n",
    "import healpy as hp\n",
    "import time "
   ],
   "outputs": [],
   "execution_count": 58
  },
  {
   "metadata": {
    "ExecuteTime": {
     "end_time": "2025-07-17T22:05:00.995750Z",
     "start_time": "2025-07-17T22:05:00.643901Z"
    }
   },
   "cell_type": "code",
   "source": [
    "with open('../../data/test_model/test_cosmo_pack.pkl', 'rb') as f:\n",
    "    cosmo_pack = pkl.load(f)\n",
    "    \n",
    "with open('../../data/test_model/test_dust_pack.pkl', 'rb') as f:\n",
    "    dust_pack = pkl.load(f)\n",
    "    "
   ],
   "id": "90a30bd1fcde9a49",
   "outputs": [],
   "execution_count": 59
  },
  {
   "metadata": {
    "ExecuteTime": {
     "end_time": "2025-07-17T22:05:02.677732Z",
     "start_time": "2025-07-17T22:05:02.671619Z"
    }
   },
   "cell_type": "code",
   "source": [
    "Rv_map = dust_pack['Rv_map']\n",
    "EBV_in_map = dust_pack['EBV_in']\n",
    "EBV_out_map = Mp.SFD"
   ],
   "id": "a9fed57db9aaaf73",
   "outputs": [],
   "execution_count": 60
  },
  {
   "metadata": {
    "ExecuteTime": {
     "end_time": "2025-07-17T22:05:19.472790Z",
     "start_time": "2025-07-17T22:05:19.464777Z"
    }
   },
   "cell_type": "code",
   "source": "np.mean(Mp.SFD<0.2)",
   "id": "35d75ab40f142085",
   "outputs": [
    {
     "data": {
      "text/plain": [
       "np.float64(0.7687142690022787)"
      ]
     },
     "execution_count": 61,
     "metadata": {},
     "output_type": "execute_result"
    }
   ],
   "execution_count": 61
  },
  {
   "metadata": {
    "ExecuteTime": {
     "end_time": "2025-07-17T21:55:31.999573Z",
     "start_time": "2025-07-17T21:55:31.994371Z"
    }
   },
   "cell_type": "code",
   "source": "reload(ER_map)",
   "id": "39c3c82278ec5084",
   "outputs": [
    {
     "data": {
      "text/plain": [
       "<module 'Simulation.pys.fast_sim.EBV_Rv_mask_acc' from '/Users/River/PycharmProjects/ExtinctionSim_3pip/Simulation/pys/fast_sim/EBV_Rv_mask_acc.py'>"
      ]
     },
     "execution_count": 41,
     "metadata": {},
     "output_type": "execute_result"
    }
   ],
   "execution_count": 41
  },
  {
   "metadata": {
    "ExecuteTime": {
     "end_time": "2025-07-17T21:56:12.447338Z",
     "start_time": "2025-07-17T21:55:32.620014Z"
    }
   },
   "cell_type": "code",
   "source": [
    "start = time.time()\n",
    "masks,label,bins_pack = ER_map.EBV_Rv_submask(EBV_in_map, Rv_map,EBV_out_map,\n",
    "                                            qMp.EBV_in_bins, qMp.Rv_bins, qMp.EBV_out_bins,\n",
    "                                            sky_mask = Mp.SFD<0.2, check = True)\n",
    "end = time.time()\n",
    "print('EBV_Rv_submask took {} seconds'.format(end-start))"
   ],
   "id": "5694d2286f76032f",
   "outputs": [
    {
     "name": "stdout",
     "output_type": "stream",
     "text": [
      "EBV_Rv_submask took 39.82300686836243 seconds\n"
     ]
    }
   ],
   "execution_count": 42
  },
  {
   "metadata": {
    "ExecuteTime": {
     "end_time": "2025-07-17T21:56:12.452442Z",
     "start_time": "2025-07-17T21:56:12.448927Z"
    }
   },
   "cell_type": "code",
   "source": "np.shape(masks)",
   "id": "7fa0b21a1ca65611",
   "outputs": [
    {
     "data": {
      "text/plain": [
       "(9000, 3145728)"
      ]
     },
     "execution_count": 43,
     "metadata": {},
     "output_type": "execute_result"
    }
   ],
   "execution_count": 43
  },
  {
   "metadata": {
    "ExecuteTime": {
     "end_time": "2025-07-17T21:56:15.822511Z",
     "start_time": "2025-07-17T21:56:15.816969Z"
    }
   },
   "cell_type": "code",
   "source": "reload(ER_map)",
   "id": "e09508a40b67f760",
   "outputs": [
    {
     "data": {
      "text/plain": [
       "<module 'Simulation.pys.fast_sim.EBV_Rv_mask_acc' from '/Users/River/PycharmProjects/ExtinctionSim_3pip/Simulation/pys/fast_sim/EBV_Rv_mask_acc.py'>"
      ]
     },
     "execution_count": 44,
     "metadata": {},
     "output_type": "execute_result"
    }
   ],
   "execution_count": 44
  },
  {
   "metadata": {
    "ExecuteTime": {
     "end_time": "2025-07-17T21:56:39.044606Z",
     "start_time": "2025-07-17T21:56:20.310698Z"
    }
   },
   "cell_type": "code",
   "source": [
    "start = time.time()\n",
    "usable_index1, lost_rate1 = ER_map.select_mask_of_toplarge_count(masks, 500) \n",
    "end = time.time()\n",
    "print('EBV_Rv_submask took {} seconds'.format(end-start))\n",
    "print(lost_rate1) \n",
    "#glabel object, muct be carefully decided later"
   ],
   "id": "c89feeb9c90ee865",
   "outputs": [
    {
     "name": "stdout",
     "output_type": "stream",
     "text": [
      "EBV_Rv_submask took 18.729541063308716 seconds\n",
      "0.06365816077142761\n"
     ]
    }
   ],
   "execution_count": 45
  },
  {
   "metadata": {
    "ExecuteTime": {
     "end_time": "2025-07-17T21:56:58.197567Z",
     "start_time": "2025-07-17T21:56:39.046444Z"
    }
   },
   "cell_type": "code",
   "source": [
    "start = time.time()\n",
    "usable_index2, lost_rate2 = ER_map.select_top_until_fraction(masks, 1-lost_rate1) \n",
    "end = time.time()\n",
    "print('EBV_Rv_submask took {} seconds'.format(end-start))\n",
    "print(len(usable_index2))"
   ],
   "id": "3ca306fea2289cd6",
   "outputs": [
    {
     "name": "stdout",
     "output_type": "stream",
     "text": [
      "EBV_Rv_submask took 19.144176244735718 seconds\n",
      "500\n"
     ]
    }
   ],
   "execution_count": 46
  },
  {
   "metadata": {
    "ExecuteTime": {
     "end_time": "2025-07-17T21:57:00.394941Z",
     "start_time": "2025-07-17T21:57:00.391389Z"
    }
   },
   "cell_type": "code",
   "source": "usable_index2",
   "id": "65c4b8b0d8ba2ea6",
   "outputs": [
    {
     "data": {
      "text/plain": [
       "array([ 401, 1002,  381, 1303,  982,  701,  681, 1283, 1604,  421, 1022,\n",
       "       1323,  721, 1584,  361,  702,  962,  682, 1624,  661, 1263, 1905,\n",
       "        722, 1885, 1564,  400, 1925,  380, 1042,  441, 1343,  662,  741,\n",
       "       2206, 2205, 1644,  420, 2506,  341, 2186, 1865, 2185, 1904, 2226,\n",
       "        942, 1003,  360, 2486, 2225, 2807,  641, 1884,  983,  742, 2507,\n",
       "       2526, 1243, 1945, 2787, 1924, 2827, 3108, 2487, 1023, 2527, 2808,\n",
       "       1544, 2166, 3088, 3128,  642, 2165, 3409, 2466, 1603,  963,  440,\n",
       "       1864, 2788, 2246, 2828, 3109, 1062, 1363, 2245, 1583,  461, 2546,\n",
       "       3429, 2767, 3389,  761, 3107, 3710, 1623, 1845, 2467,  340, 1944,\n",
       "       1664, 3089, 2847, 3129, 3408, 3410, 2547, 1043, 1304, 2806, 3087,\n",
       "       3730, 3709, 3690, 3127, 3068, 3148, 1284, 3388, 4011, 3428,  321,\n",
       "       3430, 2768, 3711, 3390, 2786,  762, 1563, 1965, 3729, 3689, 2826,\n",
       "       2848, 4031, 1324, 4010,  922, 4312,  621, 4012, 3731, 2505, 3991,\n",
       "       3449,  100, 2146, 4311, 3691, 3369,   80, 4030, 1223, 2145,  943,\n",
       "       4332, 3069, 3990, 3149, 1844, 2485, 4313, 4032, 4612, 2446, 1643,\n",
       "       4613, 3992, 4292, 3750, 4331, 4291, 1264, 2525, 1605, 3067, 4632,\n",
       "       4633, 4333, 4913, 3147, 4009, 2266,  120, 4614, 4914, 3448, 1585,\n",
       "       1524, 3368,  460,  622, 3708, 3450, 2747, 4293, 3670, 2447, 3370,\n",
       "       2265, 4310, 3749, 2766, 2566, 4634, 4593, 4051, 4592, 4934, 4933,\n",
       "       5214, 1906, 2846, 4611, 4029, 4915, 4912, 3728, 1625, 3669, 3751,\n",
       "         60, 2867, 5234, 3407, 5515, 5215, 3989, 1964, 4330, 1344, 4050,\n",
       "       5213, 3688, 4935, 4631, 4893, 3971, 4594, 3671, 5216, 4352, 4932,\n",
       "       3712, 2207, 5235, 3048, 1886, 3411, 2567, 4894, 2465, 4013, 4052,\n",
       "       3110, 5233, 2508, 4290, 5535, 5514, 2809, 2748, 4895, 5516, 5194,\n",
       "       3387, 3168, 4351, 1543, 5236, 4591, 5536, 3427, 5816, 1926, 5534,\n",
       "       1063, 3970, 1825, 1383,  320, 3732, 2789, 4272, 4652, 1082, 5517,\n",
       "       5195, 2187, 3431, 3972, 4892, 4314, 3391, 4653, 2488, 4353, 3692,\n",
       "       4033, 5817, 4615, 5836, 3090, 5815,  481, 5495, 2545, 2528, 5537,\n",
       "       3106, 1565, 5196, 3130, 5837, 4334, 5193, 4271, 5835, 2868, 2829,\n",
       "       2227, 4654, 5818, 1684, 4953, 5496, 4916, 3993,  781, 6117, 3349,\n",
       "       4049, 4954, 5217, 3469, 5838, 5494, 1302, 4294, 5518, 6137, 4635,\n",
       "       4936, 6116, 5254, 4273, 3049, 2204, 6136, 5796, 5819, 5497, 3169,\n",
       "       4350, 6118, 4572, 4309, 1244, 4610,  140, 3126, 4573, 5237, 3748,\n",
       "       1282, 4952, 6138, 6418, 4955, 4008, 5538, 3086, 4651, 5255, 6119,\n",
       "       4595, 5513, 3969, 6139, 1866, 5555, 5795, 6419, 2184, 6417, 6438,\n",
       "       4896, 5798, 1645, 4574, 5797, 5253, 3668, 5839, 3770, 5256, 1663,\n",
       "       5554, 5232, 5533, 3167, 4911, 6437, 4873, 3047, 6439, 5834, 5556,\n",
       "       6739, 5212, 6097, 6718, 5814, 3650, 3468, 4329, 5856, 6719, 4874,\n",
       "       4630, 2126, 4028, 3470, 4931, 6099, 5197, 2224, 6738,  782, 3348,\n",
       "       1985, 4270, 3988, 3367, 2746, 2125, 1322, 2167, 7019, 4289, 5855,\n",
       "       3350, 4571,  923, 6098, 1946, 3447,  301,   40, 5498, 5557, 2769,\n",
       "       4875, 4053, 4071, 5174, 3371, 5799, 5857, 4590, 6096, 4891, 7039,\n",
       "       2468, 5493, 3769, 3451, 6115, 4354, 3752, 3070, 5192, 3707, 6157,\n",
       "        902, 5858, 4872, 1824,  601, 5519, 3672, 2866, 6398, 3771, 3150,\n",
       "       3649, 5175, 6135, 2849, 2426, 5173, 4372, 3951, 6416, 6156, 4655,\n",
       "       4070, 2247, 4274, 6436, 6399])"
      ]
     },
     "execution_count": 47,
     "metadata": {},
     "output_type": "execute_result"
    }
   ],
   "execution_count": 47
  },
  {
   "metadata": {
    "ExecuteTime": {
     "end_time": "2025-07-17T21:52:56.871277Z",
     "start_time": "2025-07-17T21:52:56.864152Z"
    }
   },
   "cell_type": "code",
   "source": "assert np.array_equal(usable_index2, usable_index1)",
   "id": "657dc4359e5ea6f1",
   "outputs": [],
   "execution_count": 30
  },
  {
   "metadata": {
    "ExecuteTime": {
     "end_time": "2025-07-17T21:57:27.189722Z",
     "start_time": "2025-07-17T21:57:26.554761Z"
    }
   },
   "cell_type": "code",
   "source": "EBV_Rv_discrete = ER_map.compile_usable(masks, label, usable_index1)",
   "id": "bbd9cc6284b49dad",
   "outputs": [],
   "execution_count": 48
  },
  {
   "metadata": {
    "ExecuteTime": {
     "end_time": "2025-07-17T21:58:45.905347Z",
     "start_time": "2025-07-17T21:58:45.903625Z"
    }
   },
   "cell_type": "code",
   "source": "",
   "id": "f2a7f0c4297efefc",
   "outputs": [],
   "execution_count": 51
  },
  {
   "metadata": {
    "ExecuteTime": {
     "end_time": "2025-07-17T21:58:47.486330Z",
     "start_time": "2025-07-17T21:58:46.382703Z"
    }
   },
   "cell_type": "code",
   "source": [
    "reload(ER_map)\n",
    "EBV_in_equ, Rv_equ, EBV_out_equ, mask_total = ER_map.retrived_EBV_Rvmap(EBV_Rv_discrete, qMp.EBV_in_bins, qMp.Rv_bins, qMp.EBV_out_bins)"
   ],
   "id": "7f8a455493c59f3e",
   "outputs": [],
   "execution_count": 52
  },
  {
   "metadata": {
    "ExecuteTime": {
     "end_time": "2025-07-17T21:58:47.602298Z",
     "start_time": "2025-07-17T21:58:47.487283Z"
    }
   },
   "cell_type": "code",
   "source": "hp.mollview(mask_total)",
   "id": "b5ebe0c2bdd65153",
   "outputs": [
    {
     "data": {
      "text/plain": [
       "<Figure size 850x540 with 2 Axes>"
      ],
      "image/png": "[encoded data removed]"
     },
     "metadata": {},
     "output_type": "display_data"
    }
   ],
   "execution_count": 53
  },
  {
   "metadata": {
    "ExecuteTime": {
     "end_time": "2025-07-17T21:58:48.191627Z",
     "start_time": "2025-07-17T21:58:48.186923Z"
    }
   },
   "cell_type": "code",
   "source": "np.mean(mask_total)",
   "id": "feb2788dfa5b2709",
   "outputs": [
    {
     "data": {
      "text/plain": [
       "np.float64(0.7197793324788412)"
      ]
     },
     "execution_count": 54,
     "metadata": {},
     "output_type": "execute_result"
    }
   ],
   "execution_count": 54
  },
  {
   "metadata": {
    "ExecuteTime": {
     "end_time": "2025-07-17T21:58:50.308695Z",
     "start_time": "2025-07-17T21:58:50.267140Z"
    }
   },
   "cell_type": "code",
   "source": [
    "with open('../../data/test_model/discrete_EBVRvmap.pkl', 'wb') as f:\n",
    "    mapp = {\"EBV_in_equ\": EBV_in_equ,\"Rv_equ\": Rv_equ,\"EBV_out_equ\": EBV_out_equ,\"mask\": mask_total}\n",
    "    pkl.dump(mapp, f)"
   ],
   "id": "fdf48c52bac0a674",
   "outputs": [],
   "execution_count": 55
  },
  {
   "metadata": {
    "ExecuteTime": {
     "end_time": "2025-07-17T21:58:50.963323Z",
     "start_time": "2025-07-17T21:58:50.960845Z"
    }
   },
   "cell_type": "code",
   "source": "list(EBV_Rv_discrete.keys())[0]",
   "id": "6ec83a7aa76445e7",
   "outputs": [
    {
     "data": {
      "text/plain": [
       "(np.int64(1), np.int64(5), np.int64(1))"
      ]
     },
     "execution_count": 56,
     "metadata": {},
     "output_type": "execute_result"
    }
   ],
   "execution_count": 56
  },
  {
   "metadata": {
    "ExecuteTime": {
     "end_time": "2025-07-17T21:58:53.321338Z",
     "start_time": "2025-07-17T21:58:52.345235Z"
    }
   },
   "cell_type": "code",
   "source": [
    "with open('../../data/test_model/test_EBV_Rv_mask_list.pkl', 'wb') as f:\n",
    "    pkl.dump(EBV_Rv_discrete, f)"
   ],
   "id": "6d611a916501f0f9",
   "outputs": [],
   "execution_count": 57
  },
  {
   "metadata": {
    "ExecuteTime": {
     "end_time": "2025-05-23T16:55:36.223815Z",
     "start_time": "2025-05-23T16:55:36.220116Z"
    }
   },
   "cell_type": "code",
   "source": [
    "# with open('../quick_py/quick_Model_data/test_usable_label.pkl', 'wb') as f:\n",
    "#     pkl.dump({\"label\": list(EBV_Rv_discrete.keys()), \"index\":useable_index}, f)"
   ],
   "id": "1704228f951c8458",
   "execution_count": 15,
   "outputs": []
  },
  {
   "metadata": {
    "ExecuteTime": {
     "end_time": "2025-05-23T15:31:35.825960Z",
     "start_time": "2025-05-23T15:31:35.824401Z"
    }
   },
   "cell_type": "code",
   "source": "",
   "id": "fd5b4359e51e1f7f",
   "execution_count": 14,
   "outputs": []
  }
 ],
 "metadata": {
  "kernelspec": {
   "display_name": "Python 3",
   "language": "python",
   "name": "python3"
  },
  "language_info": {
   "codemirror_mode": {
    "name": "ipython",
    "version": 2
   },
   "file_extension": ".py",
   "mimetype": "text/x-python",
   "name": "python",
   "nbconvert_exporter": "python",
   "pygments_lexer": "ipython2",
   "version": "2.7.6"
  }
 },
 "nbformat": 4,
 "nbformat_minor": 5
}
