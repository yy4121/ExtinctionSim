{
 "cells": [
  {
   "cell_type": "code",
   "id": "initial_id",
   "metadata": {
    "collapsed": true,
    "ExecuteTime": {
     "end_time": "2025-07-18T00:57:40.448239Z",
     "start_time": "2025-07-18T00:57:40.434479Z"
    }
   },
   "source": [
    "import pickle as pkl\n",
    "import numpy as np\n",
    "import Simulation.pys.full_sim.Catalogue_one_shell as cata_shell\n",
    "import Simulation.pys.para.model_para as Mp\n",
    "import Simulation.pys.fast_sim.final_sampling_acc as sam\n",
    "from importlib import reload\n",
    "import matplotlib.pyplot as plt\n",
    "import Simulation.pys.others.Statistics_acc as St\n",
    "import Simulation.pys.full_sim.cosmo2cl as Cl\n",
    "import healpy as hp\n"
   ],
   "execution_count": 94,
   "outputs": []
  },
  {
   "metadata": {
    "ExecuteTime": {
     "end_time": "2025-07-18T00:57:42.099434Z",
     "start_time": "2025-07-18T00:57:40.991678Z"
    }
   },
   "cell_type": "code",
   "source": [
    "with open('../../data/test_model/test_dust_effect.pkl', 'rb') as f:\n",
    "    dust_effect = pkl.load(f)\n",
    "    \n",
    "with open('../../data/test_model/test_EBV_Rv_mask_list.pkl', 'rb') as f:\n",
    "    EBV_Rv_mask = pkl.load(f)\n",
    "    \n",
    "with open('../../data/test_model/test_cosmo_pack.pkl', 'rb') as f:\n",
    "    cosmo_pack = pkl.load(f)\n",
    "    \n",
    "usable_label = list(EBV_Rv_mask.keys())"
   ],
   "id": "c5ab61cec971027",
   "execution_count": 95,
   "outputs": []
  },
  {
   "metadata": {
    "ExecuteTime": {
     "end_time": "2025-07-18T00:57:42.104281Z",
     "start_time": "2025-07-18T00:57:42.100803Z"
    }
   },
   "cell_type": "code",
   "source": "len(usable_label)",
   "id": "4c744cd3dbbf9cb6",
   "execution_count": 96,
   "outputs": []
  },
  {
   "metadata": {
    "ExecuteTime": {
     "end_time": "2025-07-18T00:57:42.944575Z",
     "start_time": "2025-07-18T00:57:42.110323Z"
    }
   },
   "cell_type": "code",
   "source": "Ncount_Exp_shell_map = cata_shell.ExpNcount_map_shells(cosmo_pack[\"density_map\"], Mp.Ncount_hist, 2e8)",
   "id": "f31264f9ee00a3c",
   "execution_count": 97,
   "outputs": []
  },
  {
   "metadata": {
    "ExecuteTime": {
     "end_time": "2025-07-18T00:58:52.923898Z",
     "start_time": "2025-07-18T00:57:42.980819Z"
    }
   },
   "cell_type": "code",
   "source": [
    "reload(sam)\n",
    "hist_quick, mask_quick = sam.all_shell_box(usable_label[:500],\n",
    "                                           EBV_Rv_mask,Mp.SFD<0.2,\n",
    "                                           dust_effect[\"dust\"],\n",
    "                                           Ncount_Exp_shell_map)"
   ],
   "id": "989045e889771d84",
   "execution_count": 98,
   "outputs": []
  },
  {
   "metadata": {
    "ExecuteTime": {
     "end_time": "2025-07-18T00:59:02.643404Z",
     "start_time": "2025-07-18T00:58:52.926587Z"
    }
   },
   "cell_type": "code",
   "source": [
    "with open('../../data/test_model/test_full_sim_result_pack1.pkl', 'rb') as f:\n",
    "    result_pack = pkl.load(f)\n",
    "cosmo = result_pack[\"cosmo_pack\"]\n",
    "dust = result_pack[\"dust_pack\"]\n",
    "data = result_pack[\"data\"]\n",
    "mask = result_pack['mask']\n",
    "dust_completed = St.sim_data(data['dust'][:,:,1:-1], mask, print_ = True)\n",
    "clean_completed = St.sim_data(data['clean'][:,:,1:-1],mask, print_ = True)"
   ],
   "id": "d30ce492c4fa5f43",
   "execution_count": 99,
   "outputs": []
  },
  {
   "metadata": {
    "ExecuteTime": {
     "end_time": "2025-07-18T00:59:05.224236Z",
     "start_time": "2025-07-18T00:59:02.645525Z"
    }
   },
   "cell_type": "code",
   "source": "dust_quick = St.sim_data(hist_quick[:,:, 1:-1], mask_quick, print_=True)",
   "id": "2e2c1a35de579eb0",
   "execution_count": 100,
   "outputs": []
  },
  {
   "metadata": {
    "ExecuteTime": {
     "end_time": "2025-07-18T00:59:05.231660Z",
     "start_time": "2025-07-18T00:59:05.226119Z"
    }
   },
   "cell_type": "code",
   "source": "np.shape(hist_quick[:,:, 1:-1])",
   "id": "9e8da1626fb444a0",
   "execution_count": 101,
   "outputs": []
  },
  {
   "metadata": {
    "ExecuteTime": {
     "end_time": "2025-07-18T00:59:11.696713Z",
     "start_time": "2025-07-18T00:59:11.691973Z"
    }
   },
   "cell_type": "code",
   "source": [
    "# slow_map = data['dust']\n",
    "# quick_map = hist_quick\n",
    "# import tqdm\n",
    "# \n",
    "# for i in tqdm.tqdm(range(0, 371)):\n",
    "#     redshift_id = 10\n",
    "#     mask_pixel = EBV_Rv_mask[usable_label[i]]\n",
    "#     quick_map_pixel = quick_map[:,mask_pixel,:]\n",
    "#     dis_avg = np.mean(quick_map_pixel[redshift_id,:,:], axis = 0)\n",
    "#     plt.plot(dis_avg/np.sum(dis_avg), \"red\")\n",
    "# \n",
    "#     \n",
    "# \n",
    "# \n",
    "# plt.figure()\n",
    "#     \n",
    "# for i in tqdm.tqdm(range(0, 370)):   \n",
    "#     redshift_id = 10\n",
    "#     mask_pixel = EBV_Rv_mask[usable_label[i]]\n",
    "#     slow_map_pixel = slow_map[:,mask_pixel,:]\n",
    "#     slow_avg = np.mean(slow_map_pixel[redshift_id,:,:], axis = 0)\n",
    "#     plt.plot(slow_avg/np.sum(slow_avg), \"blue\", alpha = 1)\n",
    "# \n",
    "#     "
   ],
   "id": "87da9c4ff1e5499e",
   "execution_count": 102,
   "outputs": []
  },
  {
   "metadata": {
    "ExecuteTime": {
     "end_time": "2025-07-18T00:59:12.405992Z",
     "start_time": "2025-07-18T00:59:12.402899Z"
    }
   },
   "cell_type": "code",
   "source": [
    "# slow_map = data['dust']\n",
    "# quick_map = hist_quick\n",
    "# import tqdm\n",
    "# \n",
    "#     \n",
    "# fake_dust_law = {}\n",
    "# for i in tqdm.tqdm(range(0, 371)): \n",
    "#     redshift_data = []\n",
    "#     for redshift_id in range(0, 40):\n",
    "#         mask_pixel = EBV_Rv_mask[usable_label[i]]\n",
    "#         slow_map_pixel = slow_map[:,mask_pixel,:]\n",
    "#         slow_avg = np.sum(slow_map_pixel[redshift_id,:2000,:], axis = 0)\n",
    "#         redshift_data.append(slow_avg)\n",
    "#     fake_dust_law[usable_label[i]] = np.array(redshift_data)\n",
    "#         #plt.plot(slow_avg/np.sum(slow_avg), \"blue\", alpha = 0.01)\n",
    "# \n",
    "#     "
   ],
   "id": "727790986caf27d8",
   "execution_count": 103,
   "outputs": []
  },
  {
   "metadata": {
    "ExecuteTime": {
     "end_time": "2025-07-18T00:59:13.216219Z",
     "start_time": "2025-07-18T00:59:13.213728Z"
    }
   },
   "cell_type": "code",
   "source": "",
   "id": "fe8126fcd887b458",
   "execution_count": 103,
   "outputs": []
  },
  {
   "metadata": {
    "ExecuteTime": {
     "end_time": "2025-07-18T00:59:34.434523Z",
     "start_time": "2025-07-18T00:59:13.696236Z"
    }
   },
   "cell_type": "code",
   "source": [
    "shell_id = 3\n",
    "\n",
    "photoz_shell_nz_clean = clean_completed.photoz_shell_nzs()[shell_id]\n",
    "photoz_shell_nz_dust = dust_quick.photoz_shell_nzs()[shell_id]\n",
    "Cl_clean = Cl.cls_total_direct(cosmo['cl_shell'], cosmo['cl_label'], photoz_shell_nz_clean)\n",
    "Cl_dust = Cl.cls_total_direct(cosmo['cl_shell'], cosmo['cl_label'], photoz_shell_nz_dust)\n",
    "\n",
    "\n",
    "dust_obs_cl_slow = dust_completed.cl_photoz_shell([0,1,2,3,4], 1024)[shell_id]\n",
    "dust_obs_cl_quick = dust_quick.cl_photoz_shell([shell_id], 1024)[0]\n",
    "clean_obs_cl_slow = clean_completed.cl_photoz_shell([shell_id], 1024)[0]"
   ],
   "id": "de17fdc32e7176c7",
   "execution_count": 104,
   "outputs": []
  },
  {
   "metadata": {
    "ExecuteTime": {
     "end_time": "2025-07-18T00:59:34.441260Z",
     "start_time": "2025-07-18T00:59:34.436607Z"
    }
   },
   "cell_type": "code",
   "source": "np.shape(dust_obs_cl_slow)",
   "id": "3b76cddb9168bda1",
   "execution_count": 105,
   "outputs": []
  },
  {
   "metadata": {
    "ExecuteTime": {
     "end_time": "2025-07-18T00:59:34.635110Z",
     "start_time": "2025-07-18T00:59:34.444173Z"
    }
   },
   "cell_type": "code",
   "source": "plt.loglog(np.array(dust_obs_cl_slow).reshape(-1))",
   "id": "645b13a8971db62b",
   "execution_count": 106,
   "outputs": []
  },
  {
   "metadata": {
    "ExecuteTime": {
     "end_time": "2025-07-18T00:59:46.244140Z",
     "start_time": "2025-07-18T00:59:34.637092Z"
    }
   },
   "cell_type": "code",
   "source": [
    "plt.plot(dust_quick.photoz_shell_nzs().T/sum(dust_quick.photoz_shell_nzs().T), linewidth = 2, color = \"red\")\n",
    "plt.plot(dust_completed.photoz_shell_nzs().T/sum(dust_completed.photoz_shell_nzs().T), \"-.\", color = \"black\")"
   ],
   "id": "67454ebbe6d8b9cc",
   "execution_count": 107,
   "outputs": []
  },
  {
   "metadata": {
    "ExecuteTime": {
     "end_time": "2025-07-18T00:59:46.251627Z",
     "start_time": "2025-07-18T00:59:46.245886Z"
    }
   },
   "cell_type": "code",
   "source": "np.shape(photoz_shell_nz_clean)",
   "id": "c1f73f634d54ca01",
   "execution_count": 108,
   "outputs": []
  },
  {
   "metadata": {
    "ExecuteTime": {
     "end_time": "2025-07-18T00:59:47.151749Z",
     "start_time": "2025-07-18T00:59:46.253389Z"
    }
   },
   "cell_type": "code",
   "source": [
    "plt.figure(figsize=(10,6))\n",
    "plt.loglog(dust_obs_cl_slow[20:],\"--\", label = \"full simulation with dust\", linewidth=0.7)\n",
    "plt.loglog(dust_obs_cl_quick[20:], label = \"quick simulation with dust\", linewidth=0.7)\n",
    "plt.loglog(Cl_clean[20:], label = \"Theoretical Cl without dust\", linewidth=1, color=\"green\")\n",
    "plt.loglog(Cl_dust[20:], label = \"Theoretical Cl with dust\", linewidth=2, color = \"red\")\n",
    "plt.ylim([None,1e-5])\n",
    "plt.xlabel(\"l\")\n",
    "plt.ylabel(\"Cl\")\n",
    "plt.legend()\n",
    "\n",
    "plt.figure()\n",
    "plt.plot(((Cl_dust-dust_obs_cl_slow)/Cl_dust)[20:])\n",
    "plt.hlines(y= 0, xmin=0,xmax=1024, colors=\"red\")\n",
    "plt.xlim([20,1024])\n",
    "\n",
    "plt.figure()\n",
    "plt.plot(((Cl_dust-dust_obs_cl_quick)/Cl_dust)[20:])\n",
    "plt.hlines(y= 0, xmin=0,xmax=1024, colors=\"red\")\n",
    "plt.xlim([20,1024])"
   ],
   "id": "ee617a15f6151f3b",
   "execution_count": 109,
   "outputs": []
  },
  {
   "metadata": {
    "ExecuteTime": {
     "end_time": "2025-07-18T00:59:47.618511Z",
     "start_time": "2025-07-18T00:59:47.153286Z"
    }
   },
   "cell_type": "code",
   "source": [
    "plt.figure(figsize=(20,10))\n",
    "plt.loglog(clean_obs_cl_slow[20:],\"--\", label = \"full simulation without dust\", linewidth=0.7)\n",
    "plt.loglog(dust_obs_cl_quick[20:], label = \"quick simulation with dust\", linewidth=0.7)\n",
    "plt.loglog(Cl_clean[20:], label = \"Theoretical Cl without dust\", linewidth=2)\n",
    "plt.loglog(Cl_dust[20:], label = \"Theoretical Cl with dust\", linewidth=0.7, color = \"black\")\n",
    "plt.ylim([None,1e-5])\n",
    "plt.xlabel(\"l\")\n",
    "plt.ylabel(\"Cl\")\n",
    "plt.legend()\n",
    "\n",
    "plt.figure(figsize=(15,6))\n",
    "plt.plot(((Cl_clean-dust_obs_cl_slow)/Cl_clean)[20:])\n",
    "#plt.plot(((Cl_clean-clean_obs_cl_slow)/Cl_clean)[20:],alpha = 1)\n",
    "plt.hlines(y= 0, xmin=0,xmax=1024, colors=\"red\")\n",
    "plt.xlim([20,1024])\n",
    "\n",
    "plt.figure(figsize=(15,6))\n",
    "\n",
    "\n",
    "\n",
    "plt.plot(((Cl_clean-dust_obs_cl_quick)/Cl_clean)[20:])\n",
    "#plt.plot(((Cl_clean-clean_obs_cl_slow)/Cl_clean)[20:],alpha = 1)\n",
    "plt.hlines(y= 0, xmin=0,xmax=1024, colors=\"red\")\n",
    "plt.xlim([20,1024])\n",
    "\n",
    "plt.figure(figsize=(15,6))\n",
    "plt.plot(((Cl_clean-clean_obs_cl_slow)/Cl_clean)[20:],alpha = 1)\n",
    "plt.hlines(y= 0, xmin=0,xmax=1024, colors=\"red\")\n",
    "plt.xlim([20,1024])"
   ],
   "id": "27901236f6140f15",
   "execution_count": 110,
   "outputs": []
  },
  {
   "metadata": {
    "ExecuteTime": {
     "end_time": "2025-07-18T00:37:13.560528Z",
     "start_time": "2025-07-18T00:37:13.558450Z"
    }
   },
   "cell_type": "code",
   "source": "",
   "id": "1f627b2e87db107",
   "execution_count": 93,
   "outputs": []
  },
  {
   "metadata": {
    "ExecuteTime": {
     "end_time": "2025-05-19T17:33:53.245395Z",
     "start_time": "2025-05-19T17:33:53.244291Z"
    }
   },
   "cell_type": "code",
   "source": "",
   "id": "5cf7564e9b0b8da9",
   "execution_count": 14,
   "outputs": []
  }
 ],
 "metadata": {
  "kernelspec": {
   "display_name": "Python 3",
   "language": "python",
   "name": "python3"
  },
  "language_info": {
   "codemirror_mode": {
    "name": "ipython",
    "version": 2
   },
   "file_extension": ".py",
   "mimetype": "text/x-python",
   "name": "python",
   "nbconvert_exporter": "python",
   "pygments_lexer": "ipython2",
   "version": "2.7.6"
  }
 },
 "nbformat": 4,
 "nbformat_minor": 5
}
