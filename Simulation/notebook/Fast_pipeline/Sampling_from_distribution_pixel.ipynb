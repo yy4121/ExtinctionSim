{
 "cells": [
  {
   "cell_type": "code",
   "id": "initial_id",
   "metadata": {
    "collapsed": true,
    "ExecuteTime": {
     "end_time": "2025-07-19T03:01:40.650762Z",
     "start_time": "2025-07-19T03:01:21.632502Z"
    }
   },
   "source": [
    "import pickle as pkl\n",
    "import numpy as np\n",
    "import Simulation.pys.full_sim.Catalogue_one_shell as cata_shell\n",
    "import Simulation.pys.para.model_para as Mp\n",
    "import Simulation.pys.fast_sim.final_sampling_pixel_acc as sam\n",
    "from importlib import reload\n",
    "import matplotlib.pyplot as plt\n",
    "import Simulation.pys.others.Statistics_acc as St\n",
    "import Simulation.pys.full_sim.cosmo2cl as Cl\n",
    "import healpy as hp\n"
   ],
   "execution_count": 1,
   "outputs": []
  },
  {
   "metadata": {
    "ExecuteTime": {
     "end_time": "2025-07-19T03:01:41.066892Z",
     "start_time": "2025-07-19T03:01:40.651760Z"
    }
   },
   "cell_type": "code",
   "source": [
    "with open('../../data/test_model/test_dust_effect.pkl', 'rb') as f:\n",
    "    dust_effect = pkl.load(f)\n",
    "    \n",
    "with open('../../data/test_model/test_EBV_Rv_pixel_list.pkl', 'rb') as f:\n",
    "    EBV_Rv_pixel = pkl.load(f)\n",
    "    \n",
    "with open('../../data/test_model/test_cosmo_pack.pkl', 'rb') as f:\n",
    "    cosmo_pack = pkl.load(f)\n",
    "    \n",
    "usable_label = list(EBV_Rv_pixel.keys())"
   ],
   "id": "c5ab61cec971027",
   "execution_count": 2,
   "outputs": []
  },
  {
   "metadata": {
    "ExecuteTime": {
     "end_time": "2025-07-19T03:01:41.070818Z",
     "start_time": "2025-07-19T03:01:41.067477Z"
    }
   },
   "cell_type": "code",
   "source": "len(usable_label)",
   "id": "4c744cd3dbbf9cb6",
   "execution_count": 3,
   "outputs": []
  },
  {
   "metadata": {
    "ExecuteTime": {
     "end_time": "2025-07-19T03:01:41.802092Z",
     "start_time": "2025-07-19T03:01:41.072134Z"
    }
   },
   "cell_type": "code",
   "source": "Ncount_Exp_shell_map = cata_shell.ExpNcount_map_shells(cosmo_pack[\"density_map\"], Mp.Ncount_hist, 2e8)",
   "id": "f31264f9ee00a3c",
   "execution_count": 4,
   "outputs": []
  },
  {
   "metadata": {
    "ExecuteTime": {
     "end_time": "2025-07-19T03:03:39.830782Z",
     "start_time": "2025-07-19T03:03:39.828554Z"
    }
   },
   "cell_type": "code",
   "source": "2e8/(12*512**2)",
   "id": "c82cc836852cd83",
   "execution_count": 10,
   "outputs": []
  },
  {
   "metadata": {
    "ExecuteTime": {
     "end_time": "2025-07-19T03:02:25.503662Z",
     "start_time": "2025-07-19T03:01:41.802772Z"
    }
   },
   "cell_type": "code",
   "source": [
    "reload(sam)\n",
    "hist_quick, mask_quick = sam.all_shell_box(usable_label[:],\n",
    "                                           EBV_Rv_pixel,Mp.SFD<0.2,\n",
    "                                           dust_effect[\"dust\"],\n",
    "                                           Ncount_Exp_shell_map)"
   ],
   "id": "989045e889771d84",
   "execution_count": 5,
   "outputs": []
  },
  {
   "metadata": {
    "ExecuteTime": {
     "end_time": "2025-07-18T02:20:41.138193Z",
     "start_time": "2025-07-18T02:20:41.133155Z"
    }
   },
   "cell_type": "code",
   "source": "np.mean(mask_quick)",
   "id": "c851bb627cf17d64",
   "execution_count": 6,
   "outputs": []
  },
  {
   "metadata": {
    "ExecuteTime": {
     "end_time": "2025-07-18T02:20:55.352848Z",
     "start_time": "2025-07-18T02:20:44.475772Z"
    }
   },
   "cell_type": "code",
   "source": [
    "with open('../../data/test_model/test_full_sim_result_pack1.pkl', 'rb') as f:\n",
    "    result_pack = pkl.load(f)\n",
    "cosmo = result_pack[\"cosmo_pack\"]\n",
    "dust = result_pack[\"dust_pack\"]\n",
    "data = result_pack[\"data\"]\n",
    "mask = result_pack['mask']\n",
    "dust_completed = St.sim_data(data['dust'][:,:,1:-1], mask, print_ = True)\n",
    "clean_completed = St.sim_data(data['clean'][:,:,1:-1],mask, print_ = True)"
   ],
   "id": "d30ce492c4fa5f43",
   "execution_count": 7,
   "outputs": []
  },
  {
   "metadata": {
    "ExecuteTime": {
     "end_time": "2025-07-18T02:20:58.315152Z",
     "start_time": "2025-07-18T02:20:55.356175Z"
    }
   },
   "cell_type": "code",
   "source": "dust_quick = St.sim_data(hist_quick[:,:, 1:-1], mask_quick, print_=True)",
   "id": "2e2c1a35de579eb0",
   "execution_count": 8,
   "outputs": []
  },
  {
   "metadata": {
    "ExecuteTime": {
     "end_time": "2025-07-18T02:20:58.320319Z",
     "start_time": "2025-07-18T02:20:58.316169Z"
    }
   },
   "cell_type": "code",
   "source": "np.shape(hist_quick[:,:, 1:-1])",
   "id": "9e8da1626fb444a0",
   "execution_count": 9,
   "outputs": []
  },
  {
   "metadata": {
    "ExecuteTime": {
     "end_time": "2025-07-18T02:14:29.493482Z",
     "start_time": "2025-07-18T02:14:29.490632Z"
    }
   },
   "cell_type": "code",
   "source": [
    "# slow_map = data['dust']\n",
    "# quick_map = hist_quick\n",
    "# import tqdm\n",
    "# \n",
    "# for i in tqdm.tqdm(range(0, 371)):\n",
    "#     redshift_id = 10\n",
    "#     mask_pixel = EBV_Rv_mask[usable_label[i]]\n",
    "#     quick_map_pixel = quick_map[:,mask_pixel,:]\n",
    "#     dis_avg = np.mean(quick_map_pixel[redshift_id,:,:], axis = 0)\n",
    "#     plt.plot(dis_avg/np.sum(dis_avg), \"red\")\n",
    "# \n",
    "#     \n",
    "# \n",
    "# \n",
    "# plt.figure()\n",
    "#     \n",
    "# for i in tqdm.tqdm(range(0, 370)):   \n",
    "#     redshift_id = 10\n",
    "#     mask_pixel = EBV_Rv_mask[usable_label[i]]\n",
    "#     slow_map_pixel = slow_map[:,mask_pixel,:]\n",
    "#     slow_avg = np.mean(slow_map_pixel[redshift_id,:,:], axis = 0)\n",
    "#     plt.plot(slow_avg/np.sum(slow_avg), \"blue\", alpha = 1)\n",
    "# \n",
    "#     "
   ],
   "id": "87da9c4ff1e5499e",
   "execution_count": 13,
   "outputs": []
  },
  {
   "metadata": {
    "ExecuteTime": {
     "end_time": "2025-07-18T02:14:29.755754Z",
     "start_time": "2025-07-18T02:14:29.752825Z"
    }
   },
   "cell_type": "code",
   "source": [
    "# slow_map = data['dust']\n",
    "# quick_map = hist_quick\n",
    "# import tqdm\n",
    "# \n",
    "#     \n",
    "# fake_dust_law = {}\n",
    "# for i in tqdm.tqdm(range(0, 371)): \n",
    "#     redshift_data = []\n",
    "#     for redshift_id in range(0, 40):\n",
    "#         mask_pixel = EBV_Rv_mask[usable_label[i]]\n",
    "#         slow_map_pixel = slow_map[:,mask_pixel,:]\n",
    "#         slow_avg = np.sum(slow_map_pixel[redshift_id,:2000,:], axis = 0)\n",
    "#         redshift_data.append(slow_avg)\n",
    "#     fake_dust_law[usable_label[i]] = np.array(redshift_data)\n",
    "#         #plt.plot(slow_avg/np.sum(slow_avg), \"blue\", alpha = 0.01)\n",
    "# \n",
    "#     "
   ],
   "id": "727790986caf27d8",
   "execution_count": 14,
   "outputs": []
  },
  {
   "metadata": {
    "ExecuteTime": {
     "end_time": "2025-07-18T02:14:30.151677Z",
     "start_time": "2025-07-18T02:14:30.150022Z"
    }
   },
   "cell_type": "code",
   "source": "",
   "id": "fe8126fcd887b458",
   "execution_count": 14,
   "outputs": []
  },
  {
   "metadata": {
    "ExecuteTime": {
     "end_time": "2025-07-18T02:21:18.010358Z",
     "start_time": "2025-07-18T02:20:58.323025Z"
    }
   },
   "cell_type": "code",
   "source": [
    "shell_id = 3\n",
    "\n",
    "photoz_shell_nz_clean = clean_completed.photoz_shell_nzs()[shell_id]\n",
    "photoz_shell_nz_dust = dust_quick.photoz_shell_nzs()[shell_id]\n",
    "Cl_clean = Cl.cls_total_direct(cosmo['cl_shell'], cosmo['cl_label'], photoz_shell_nz_clean)\n",
    "Cl_dust = Cl.cls_total_direct(cosmo['cl_shell'], cosmo['cl_label'], photoz_shell_nz_dust)\n",
    "\n",
    "\n",
    "dust_obs_cl_slow = dust_completed.cl_photoz_shell([0,1,2,3,4], 1024)[shell_id]\n",
    "dust_obs_cl_quick = dust_quick.cl_photoz_shell([shell_id], 1024)[0]\n",
    "clean_obs_cl_slow = clean_completed.cl_photoz_shell([shell_id], 1024)[0]"
   ],
   "id": "de17fdc32e7176c7",
   "execution_count": 10,
   "outputs": []
  },
  {
   "metadata": {
    "ExecuteTime": {
     "end_time": "2025-07-18T02:21:18.015337Z",
     "start_time": "2025-07-18T02:21:18.011683Z"
    }
   },
   "cell_type": "code",
   "source": "np.shape(dust_obs_cl_slow)",
   "id": "3b76cddb9168bda1",
   "execution_count": 11,
   "outputs": []
  },
  {
   "metadata": {
    "ExecuteTime": {
     "end_time": "2025-07-18T02:21:18.264642Z",
     "start_time": "2025-07-18T02:21:18.017190Z"
    }
   },
   "cell_type": "code",
   "source": "plt.loglog(np.array(dust_obs_cl_slow).reshape(-1))",
   "id": "645b13a8971db62b",
   "execution_count": 12,
   "outputs": []
  },
  {
   "metadata": {
    "ExecuteTime": {
     "end_time": "2025-07-18T02:21:29.129437Z",
     "start_time": "2025-07-18T02:21:18.265308Z"
    }
   },
   "cell_type": "code",
   "source": [
    "plt.plot(dust_quick.photoz_shell_nzs().T/sum(dust_quick.photoz_shell_nzs().T), linewidth = 2, color = \"red\")\n",
    "plt.plot(dust_completed.photoz_shell_nzs().T/sum(dust_completed.photoz_shell_nzs().T), \"-.\", color = \"black\")"
   ],
   "id": "67454ebbe6d8b9cc",
   "execution_count": 13,
   "outputs": []
  },
  {
   "metadata": {
    "ExecuteTime": {
     "end_time": "2025-07-18T02:21:29.136814Z",
     "start_time": "2025-07-18T02:21:29.132292Z"
    }
   },
   "cell_type": "code",
   "source": "np.shape(photoz_shell_nz_clean)",
   "id": "c1f73f634d54ca01",
   "execution_count": 14,
   "outputs": []
  },
  {
   "metadata": {
    "ExecuteTime": {
     "end_time": "2025-07-18T02:21:29.468575Z",
     "start_time": "2025-07-18T02:21:29.137986Z"
    }
   },
   "cell_type": "code",
   "source": [
    "plt.figure(figsize=(10,6))\n",
    "plt.loglog(dust_obs_cl_slow[20:],\"--\", label = \"full simulation with dust\", linewidth=0.7)\n",
    "plt.loglog(dust_obs_cl_quick[20:], label = \"quick simulation with dust\", linewidth=0.7)\n",
    "plt.loglog(Cl_clean[20:], label = \"Theoretical Cl without dust\", linewidth=1, color=\"green\")\n",
    "plt.loglog(Cl_dust[20:], label = \"Theoretical Cl with dust\", linewidth=2, color = \"red\")\n",
    "plt.ylim([None,1e-5])\n",
    "plt.xlabel(\"l\")\n",
    "plt.ylabel(\"Cl\")\n",
    "plt.legend()\n",
    "\n",
    "plt.figure()\n",
    "plt.plot(((Cl_dust-dust_obs_cl_slow)/Cl_dust)[20:])\n",
    "plt.hlines(y= 0, xmin=0,xmax=1024, colors=\"red\")\n",
    "plt.xlim([20,1024])\n",
    "\n",
    "plt.figure()\n",
    "plt.plot(((Cl_dust-dust_obs_cl_quick)/Cl_dust)[20:])\n",
    "plt.hlines(y= 0, xmin=0,xmax=1024, colors=\"red\")\n",
    "plt.xlim([20,1024])"
   ],
   "id": "ee617a15f6151f3b",
   "execution_count": 15,
   "outputs": []
  },
  {
   "metadata": {
    "ExecuteTime": {
     "end_time": "2025-07-18T02:21:30.143504Z",
     "start_time": "2025-07-18T02:21:29.472545Z"
    }
   },
   "cell_type": "code",
   "source": [
    "plt.figure(figsize=(20,10))\n",
    "plt.loglog(clean_obs_cl_slow[20:],\"--\", label = \"full simulation without dust\", linewidth=0.7)\n",
    "plt.loglog(dust_obs_cl_quick[20:], label = \"quick simulation with dust\", linewidth=0.7)\n",
    "plt.loglog(Cl_clean[20:], label = \"Theoretical Cl without dust\", linewidth=2)\n",
    "plt.loglog(Cl_dust[20:], label = \"Theoretical Cl with dust\", linewidth=0.7, color = \"black\")\n",
    "plt.ylim([None,1e-5])\n",
    "plt.xlabel(\"l\")\n",
    "plt.ylabel(\"Cl\")\n",
    "plt.legend()\n",
    "\n",
    "plt.figure(figsize=(15,6))\n",
    "plt.plot(((Cl_clean-dust_obs_cl_slow)/Cl_clean)[20:])\n",
    "#plt.plot(((Cl_clean-clean_obs_cl_slow)/Cl_clean)[20:],alpha = 1)\n",
    "plt.hlines(y= 0, xmin=0,xmax=1024, colors=\"red\")\n",
    "plt.xlim([20,1024])\n",
    "\n",
    "plt.figure(figsize=(15,6))\n",
    "\n",
    "\n",
    "\n",
    "plt.plot(((Cl_clean-dust_obs_cl_quick)/Cl_clean)[20:])\n",
    "#plt.plot(((Cl_clean-clean_obs_cl_slow)/Cl_clean)[20:],alpha = 1)\n",
    "plt.hlines(y= 0, xmin=0,xmax=1024, colors=\"red\")\n",
    "plt.xlim([20,1024])\n",
    "\n",
    "plt.figure(figsize=(15,6))\n",
    "plt.plot(((Cl_clean-clean_obs_cl_slow)/Cl_clean)[20:],alpha = 1)\n",
    "plt.hlines(y= 0, xmin=0,xmax=1024, colors=\"red\")\n",
    "plt.xlim([20,1024])"
   ],
   "id": "27901236f6140f15",
   "execution_count": 16,
   "outputs": []
  },
  {
   "metadata": {
    "ExecuteTime": {
     "end_time": "2025-07-18T00:37:13.560528Z",
     "start_time": "2025-07-18T00:37:13.558450Z"
    }
   },
   "cell_type": "code",
   "source": "",
   "id": "1f627b2e87db107",
   "execution_count": 93,
   "outputs": []
  },
  {
   "metadata": {
    "ExecuteTime": {
     "end_time": "2025-05-19T17:33:53.245395Z",
     "start_time": "2025-05-19T17:33:53.244291Z"
    }
   },
   "cell_type": "code",
   "source": "",
   "id": "5cf7564e9b0b8da9",
   "execution_count": 14,
   "outputs": []
  }
 ],
 "metadata": {
  "kernelspec": {
   "display_name": "Python 3",
   "language": "python",
   "name": "python3"
  },
  "language_info": {
   "codemirror_mode": {
    "name": "ipython",
    "version": 2
   },
   "file_extension": ".py",
   "mimetype": "text/x-python",
   "name": "python",
   "nbconvert_exporter": "python",
   "pygments_lexer": "ipython2",
   "version": "2.7.6"
  }
 },
 "nbformat": 4,
 "nbformat_minor": 5
}
