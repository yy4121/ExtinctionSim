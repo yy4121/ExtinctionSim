{
 "cells": [
  {
   "cell_type": "code",
   "id": "initial_id",
   "metadata": {
    "collapsed": true,
    "ExecuteTime": {
     "end_time": "2025-07-18T02:18:03.432969Z",
     "start_time": "2025-07-18T02:17:44.067920Z"
    }
   },
   "source": [
    "import Simulation.pys.fast_sim.EBV_Rv_pixel_acc as ER_map\n",
    "from importlib import reload\n",
    "import numpy as np\n",
    "import pickle as pkl\n",
    "import Simulation.pys.para.model_para as Mp\n",
    "import Simulation.pys.para.fast_para as qMp\n",
    "import matplotlib.pyplot as plt\n",
    "import healpy as hp\n",
    "import time "
   ],
   "outputs": [
    {
     "name": "stderr",
     "output_type": "stream",
     "text": [
      "100%|██████████| 40/40 [00:01<00:00, 30.34it/s]\n"
     ]
    }
   ],
   "execution_count": 1
  },
  {
   "metadata": {
    "ExecuteTime": {
     "end_time": "2025-07-18T02:18:03.784106Z",
     "start_time": "2025-07-18T02:18:03.433853Z"
    }
   },
   "cell_type": "code",
   "source": [
    "with open('../../data/test_model/test_cosmo_pack.pkl', 'rb') as f:\n",
    "    cosmo_pack = pkl.load(f)\n",
    "    \n",
    "with open('../../data/test_model/test_dust_pack.pkl', 'rb') as f:\n",
    "    dust_pack = pkl.load(f)\n",
    "    "
   ],
   "id": "90a30bd1fcde9a49",
   "outputs": [],
   "execution_count": 2
  },
  {
   "metadata": {
    "ExecuteTime": {
     "end_time": "2025-07-18T02:18:03.786642Z",
     "start_time": "2025-07-18T02:18:03.784776Z"
    }
   },
   "cell_type": "code",
   "source": [
    "Rv_map = dust_pack['Rv_map']\n",
    "EBV_in_map = dust_pack['EBV_in']\n",
    "EBV_out_map = Mp.SFD"
   ],
   "id": "a9fed57db9aaaf73",
   "outputs": [],
   "execution_count": 3
  },
  {
   "metadata": {
    "ExecuteTime": {
     "end_time": "2025-07-18T02:18:03.795452Z",
     "start_time": "2025-07-18T02:18:03.787855Z"
    }
   },
   "cell_type": "code",
   "source": "np.mean(Mp.SFD<0.2)",
   "id": "35d75ab40f142085",
   "outputs": [
    {
     "data": {
      "text/plain": [
       "np.float64(0.7687142690022787)"
      ]
     },
     "execution_count": 4,
     "metadata": {},
     "output_type": "execute_result"
    }
   ],
   "execution_count": 4
  },
  {
   "metadata": {
    "ExecuteTime": {
     "end_time": "2025-07-18T02:18:03.799312Z",
     "start_time": "2025-07-18T02:18:03.796081Z"
    }
   },
   "cell_type": "code",
   "source": "reload(ER_map)",
   "id": "39c3c82278ec5084",
   "outputs": [
    {
     "data": {
      "text/plain": [
       "<module 'Simulation.pys.fast_sim.EBV_Rv_pixel_acc' from '/Users/River/PycharmProjects/ExtinctionSim_3pip/Simulation/pys/fast_sim/EBV_Rv_pixel_acc.py'>"
      ]
     },
     "execution_count": 5,
     "metadata": {},
     "output_type": "execute_result"
    }
   ],
   "execution_count": 5
  },
  {
   "metadata": {
    "ExecuteTime": {
     "end_time": "2025-07-18T02:18:04.377383Z",
     "start_time": "2025-07-18T02:18:03.800095Z"
    }
   },
   "cell_type": "code",
   "source": [
    "start = time.time()\n",
    "index,label,bins_pack = ER_map.EBV_Rv_subpix(EBV_in_map, Rv_map,EBV_out_map,\n",
    "                                            qMp.EBV_in_bins, qMp.Rv_bins, qMp.EBV_out_bins,\n",
    "                                            sky_mask = Mp.SFD<0.2, check = True)\n",
    "end = time.time()\n",
    "print('EBV_Rv_submask took {} seconds'.format(end-start))"
   ],
   "id": "5694d2286f76032f",
   "outputs": [
    {
     "name": "stdout",
     "output_type": "stream",
     "text": [
      "EBV_Rv_submask took 0.5752100944519043 seconds\n"
     ]
    }
   ],
   "execution_count": 6
  },
  {
   "metadata": {
    "ExecuteTime": {
     "end_time": "2025-07-18T02:18:04.380566Z",
     "start_time": "2025-07-18T02:18:04.377987Z"
    }
   },
   "cell_type": "code",
   "source": "reload(ER_map)",
   "id": "e09508a40b67f760",
   "outputs": [
    {
     "data": {
      "text/plain": [
       "<module 'Simulation.pys.fast_sim.EBV_Rv_pixel_acc' from '/Users/River/PycharmProjects/ExtinctionSim_3pip/Simulation/pys/fast_sim/EBV_Rv_pixel_acc.py'>"
      ]
     },
     "execution_count": 7,
     "metadata": {},
     "output_type": "execute_result"
    }
   ],
   "execution_count": 7
  },
  {
   "metadata": {
    "ExecuteTime": {
     "end_time": "2025-07-18T02:18:04.384105Z",
     "start_time": "2025-07-18T02:18:04.381381Z"
    }
   },
   "cell_type": "code",
   "source": [
    "start = time.time()\n",
    "usable_index1, lost_rate1 = ER_map.select_mask_of_toplarge_count(index, 700) \n",
    "end = time.time()\n",
    "print('EBV_Rv_submask took {} seconds'.format(end-start))\n",
    "print(lost_rate1) \n",
    "#glabel object, muct be carefully decided later"
   ],
   "id": "c89feeb9c90ee865",
   "outputs": [
    {
     "name": "stdout",
     "output_type": "stream",
     "text": [
      "EBV_Rv_submask took 0.0008609294891357422 seconds\n",
      "0.034764362744327704\n"
     ]
    }
   ],
   "execution_count": 8
  },
  {
   "metadata": {
    "ExecuteTime": {
     "end_time": "2025-07-18T02:18:04.387661Z",
     "start_time": "2025-07-18T02:18:04.384710Z"
    }
   },
   "cell_type": "code",
   "source": [
    "start = time.time()\n",
    "usable_index2, lost_rate2 = ER_map.select_top_until_fraction(index, 1-lost_rate1) \n",
    "end = time.time()\n",
    "print('EBV_Rv_submask took {} seconds'.format(end-start))\n",
    "print(len(usable_index2))"
   ],
   "id": "3ca306fea2289cd6",
   "outputs": [
    {
     "name": "stdout",
     "output_type": "stream",
     "text": [
      "EBV_Rv_submask took 0.0013120174407958984 seconds\n",
      "700\n"
     ]
    }
   ],
   "execution_count": 9
  },
  {
   "metadata": {
    "ExecuteTime": {
     "end_time": "2025-07-18T02:18:04.392360Z",
     "start_time": "2025-07-18T02:18:04.389533Z"
    }
   },
   "cell_type": "code",
   "source": "usable_index2",
   "id": "65c4b8b0d8ba2ea6",
   "outputs": [
    {
     "data": {
      "text/plain": [
       "array([ 401, 1002,  381, 1303,  982,  701,  681, 1283, 1604,  421, 1022,\n",
       "       1323,  721, 1584,  361,  702,  962,  682, 1624,  661, 1263, 1905,\n",
       "        722, 1885, 1564,  400, 1925,  380, 1042,  441, 1343,  662,  741,\n",
       "       2206, 2205, 1644,  420, 2506,  341, 2186, 1865, 2185, 1904, 2226,\n",
       "        942, 1003,  360, 2486, 2225, 2807,  641, 1884,  983,  742, 2507,\n",
       "       2526, 1243, 1945, 2787, 1924, 2827, 3108, 2487, 1023, 2527, 2808,\n",
       "       1544, 2166, 3088, 3128,  642, 2165, 3409, 2466, 1603,  963,  440,\n",
       "       1864, 2788, 2246, 2828, 3109, 1062, 1363, 2245, 1583,  461, 2546,\n",
       "       3429, 2767, 3389,  761, 3107, 3710, 1623, 1845, 2467,  340, 1944,\n",
       "       1664, 3089, 2847, 3129, 3408, 3410, 2547, 1043, 1304, 2806, 3087,\n",
       "       3730, 3709, 3690, 3127, 3068, 3148, 1284, 3388, 4011, 3428,  321,\n",
       "       3430, 2768, 3711, 3390, 2786,  762, 1563, 1965, 3729, 3689, 2826,\n",
       "       2848, 4031, 1324, 4010,  922, 4312,  621, 4012, 3731, 2505, 3991,\n",
       "       3449,  100, 2146, 4311, 3691, 3369,   80, 4030, 1223, 2145,  943,\n",
       "       4332, 3069, 3990, 3149, 1844, 2485, 4313, 4032, 4612, 2446, 1643,\n",
       "       4613, 3992, 4292, 3750, 4331, 4291, 1264, 2525, 1605, 3067, 4632,\n",
       "       4633, 4333, 4913, 3147, 4009, 2266,  120, 4614, 4914, 3448, 1585,\n",
       "       1524, 3368,  460,  622, 3708, 3450, 2747, 4293, 3670, 2447, 3370,\n",
       "       2265, 4310, 3749, 2766, 2566, 4634, 4593, 4051, 4592, 4934, 4933,\n",
       "       5214, 1906, 2846, 4611, 4029, 4915, 4912, 3728, 1625, 3669, 3751,\n",
       "         60, 2867, 5234, 3407, 5515, 5215, 3989, 1964, 4330, 1344, 4050,\n",
       "       5213, 3688, 4935, 4631, 4893, 3971, 4594, 3671, 5216, 4352, 4932,\n",
       "       3712, 2207, 5235, 3048, 1886, 3411, 2567, 4894, 2465, 4013, 4052,\n",
       "       3110, 5233, 2508, 4290, 5535, 5514, 2809, 2748, 4895, 5516, 5194,\n",
       "       3387, 3168, 4351, 1543, 5236, 4591, 5536, 3427, 5816, 1926, 5534,\n",
       "       1063, 3970, 1825, 1383,  320, 3732, 2789, 4272, 4652, 1082, 5517,\n",
       "       5195, 2187, 3431, 3972, 4892, 4314, 3391, 4653, 2488, 4353, 3692,\n",
       "       4033, 5817, 4615, 5836, 3090, 5815,  481, 5495, 2545, 2528, 5537,\n",
       "       3106, 1565, 5196, 3130, 5837, 4334, 5193, 4271, 5835, 2868, 2829,\n",
       "       2227, 4654, 5818, 1684, 4953, 5496, 4916, 3993,  781, 6117, 3349,\n",
       "       4049, 4954, 5217, 3469, 5838, 5494, 1302, 4294, 5518, 6137, 4635,\n",
       "       4936, 6116, 5254, 4273, 3049, 2204, 6136, 5796, 5819, 5497, 3169,\n",
       "       4350, 6118, 4572, 4309, 1244, 4610,  140, 3126, 4573, 5237, 3748,\n",
       "       1282, 4952, 6138, 6418, 4955, 4008, 5538, 3086, 4651, 5255, 6119,\n",
       "       4595, 5513, 3969, 6139, 1866, 5555, 5795, 6419, 2184, 6417, 6438,\n",
       "       4896, 5798, 1645, 4574, 5797, 5253, 3668, 5839, 3770, 5256, 1663,\n",
       "       5554, 5232, 5533, 3167, 4911, 6437, 4873, 3047, 6439, 5834, 5556,\n",
       "       6739, 5212, 6097, 6718, 5814, 3650, 3468, 4329, 5856, 6719, 4874,\n",
       "       4630, 2126, 4028, 3470, 4931, 6099, 5197, 2224, 6738,  782, 3348,\n",
       "       1985, 4270, 3988, 3367, 2746, 2125, 1322, 2167, 7019, 4289, 5855,\n",
       "       3350, 4571,  923, 6098, 1946, 3447,  301,   40, 5498, 5557, 2769,\n",
       "       4875, 4053, 4071, 5174, 3371, 5799, 5857, 4590, 6096, 4891, 7039,\n",
       "       2468, 5493, 3769, 3451, 6115, 4354, 3752, 3070, 5192, 3707, 6157,\n",
       "        902, 5858, 4872, 1824,  601, 5519, 3672, 2866, 6398, 3771, 3150,\n",
       "       3649, 5175, 6135, 2849, 2426, 5173, 4372, 3951, 6416, 6156, 4655,\n",
       "       4070, 2247, 4274, 6436, 6399, 2548, 6457, 6698, 6158, 3973, 6397,\n",
       "       5794, 4956, 1262, 6458, 6159, 4371, 3727, 8839, 5218, 5475, 5558,\n",
       "       6699, 4917, 5176, 5476, 5257, 6999, 6459, 5252, 5474, 5512, 5539,\n",
       "       5859, 2164, 4673, 2445, 3687, 4072, 1203, 3950, 6095, 5238, 3651,\n",
       "       3146, 4672, 1364, 6758, 4616, 8819, 3066, 6759, 4575, 2427, 2805,\n",
       "       2286, 6114, 4373, 4315, 5477, 5854, 5211, 5776, 4973, 3952, 6717,\n",
       "       7018, 4636, 2586, 6737, 4650, 4937, 7319, 2285, 1545, 7339, 2727,\n",
       "       7038,  480, 5553, 5833, 4951, 5813, 5532, 5198, 5499, 4674, 4876,\n",
       "       7059, 4974, 2565, 4349, 4897, 4308, 4609, 8838, 5775, 6716, 6396,\n",
       "       5777, 6155, 4048, 2887, 8818, 5231, 4251, 4252, 6134, 2785, 5177,\n",
       "       4972, 1504, 6435, 1342, 5274, 2825, 6415, 8837, 8859, 3028, 3968,\n",
       "       4014, 1984, 4335, 4596, 4910, 2587, 6456, 4328, 5492, 5778, 6736,\n",
       "       2244, 6077, 5575, 4269,  602, 3713, 4671, 4370, 4975, 8858, 1846,\n",
       "       3648, 4930, 4553, 3768, 4069, 7017, 2728, 4589, 5478, 8817, 4629,\n",
       "       4871, 4552, 5275, 5793, 4295, 4890, 1523, 5172, 7037, 4570, 4253,\n",
       "       6078, 5273, 6079, 6076, 3188, 5877, 5276, 3949, 5258, 6715, 6377,\n",
       "       6998, 5779, 6177, 6378, 6697, 5875, 5559, 4288, 5473, 5191, 5876,\n",
       "       7318, 7359, 6113, 6735, 4957, 7338, 6094, 5574,  160, 3471, 4034,\n",
       "       3747, 5853, 4853, 1665, 7058, 6414, 6395])"
      ]
     },
     "execution_count": 10,
     "metadata": {},
     "output_type": "execute_result"
    }
   ],
   "execution_count": 10
  },
  {
   "metadata": {
    "ExecuteTime": {
     "end_time": "2025-07-18T02:18:04.394665Z",
     "start_time": "2025-07-18T02:18:04.393141Z"
    }
   },
   "cell_type": "code",
   "source": "assert np.array_equal(usable_index2, usable_index1)",
   "id": "657dc4359e5ea6f1",
   "outputs": [],
   "execution_count": 11
  },
  {
   "metadata": {
    "ExecuteTime": {
     "end_time": "2025-07-18T02:18:04.398321Z",
     "start_time": "2025-07-18T02:18:04.395107Z"
    }
   },
   "cell_type": "code",
   "source": [
    "reload(ER_map)\n",
    "EBV_Rv_discrete = ER_map.compile_usable(index, label, usable_index1)"
   ],
   "id": "bbd9cc6284b49dad",
   "outputs": [],
   "execution_count": 12
  },
  {
   "metadata": {
    "ExecuteTime": {
     "end_time": "2025-07-18T02:18:04.401104Z",
     "start_time": "2025-07-18T02:18:04.398841Z"
    }
   },
   "cell_type": "code",
   "source": "len(EBV_Rv_discrete[list(EBV_Rv_discrete.keys())[0]])",
   "id": "f2a7f0c4297efefc",
   "outputs": [
    {
     "data": {
      "text/plain": [
       "60044"
      ]
     },
     "execution_count": 13,
     "metadata": {},
     "output_type": "execute_result"
    }
   ],
   "execution_count": 13
  },
  {
   "metadata": {
    "ExecuteTime": {
     "end_time": "2025-07-18T02:18:04.403729Z",
     "start_time": "2025-07-18T02:18:04.401638Z"
    }
   },
   "cell_type": "code",
   "source": "list(EBV_Rv_discrete.keys())[0]",
   "id": "6ec83a7aa76445e7",
   "outputs": [
    {
     "data": {
      "text/plain": [
       "(np.int64(1), np.int64(5), np.int64(1))"
      ]
     },
     "execution_count": 14,
     "metadata": {},
     "output_type": "execute_result"
    }
   ],
   "execution_count": 14
  },
  {
   "metadata": {
    "ExecuteTime": {
     "end_time": "2025-07-18T02:18:04.433548Z",
     "start_time": "2025-07-18T02:18:04.404314Z"
    }
   },
   "cell_type": "code",
   "source": [
    "# with open('../../data/test_model/test_EBV_Rv_pixel_list.pkl', 'wb') as f:\n",
    "#     pkl.dump(EBV_Rv_discrete, f)"
   ],
   "id": "6d611a916501f0f9",
   "outputs": [],
   "execution_count": 15
  },
  {
   "metadata": {
    "ExecuteTime": {
     "end_time": "2025-05-23T15:31:35.825960Z",
     "start_time": "2025-05-23T15:31:35.824401Z"
    }
   },
   "cell_type": "code",
   "source": "",
   "id": "fd5b4359e51e1f7f",
   "execution_count": 14,
   "outputs": []
  }
 ],
 "metadata": {
  "kernelspec": {
   "display_name": "Python 3",
   "language": "python",
   "name": "python3"
  },
  "language_info": {
   "codemirror_mode": {
    "name": "ipython",
    "version": 2
   },
   "file_extension": ".py",
   "mimetype": "text/x-python",
   "name": "python",
   "nbconvert_exporter": "python",
   "pygments_lexer": "ipython2",
   "version": "2.7.6"
  }
 },
 "nbformat": 4,
 "nbformat_minor": 5
}
